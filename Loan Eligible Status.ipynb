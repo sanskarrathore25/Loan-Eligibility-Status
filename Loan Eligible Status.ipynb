{
 "cells": [
  {
   "cell_type": "markdown",
   "id": "88df9b80",
   "metadata": {},
   "source": [
    "# Step 1: Business Problem Understanding\n",
    "\n",
    "Dream Housing Finance company deals in all kinds of home loans.They have presence across all urban, semi urban and rural areas.\n",
    "Customer first applies for home loan and after that company validates the customer eligibility for loan.\n",
    "\n",
    "Company wants to automate the loan eligibility process (real time) based on customer detail provided while filling online \n",
    "application form.\n",
    "These details are Gender, Martial Status, Education, Number of Dependents, Income, Loan Amount, Credit History \n",
    "and others. To automate this process, they have provided a dataset to identify the customers\n",
    "segments that are eligible for loan \n",
    "amount so that they can specifically target these customers."
   ]
  },
  {
   "cell_type": "code",
   "execution_count": 1,
   "id": "c980dd7c",
   "metadata": {},
   "outputs": [],
   "source": [
    "import numpy as np\n",
    "import pandas as pd\n",
    "import matplotlib.pyplot as plt\n",
    "import seaborn as sns \n",
    "\n",
    "import warnings\n",
    "warnings.filterwarnings(\"ignore\")"
   ]
  },
  {
   "cell_type": "code",
   "execution_count": 2,
   "id": "44bed479",
   "metadata": {},
   "outputs": [
    {
     "data": {
      "text/html": [
       "<div>\n",
       "<style scoped>\n",
       "    .dataframe tbody tr th:only-of-type {\n",
       "        vertical-align: middle;\n",
       "    }\n",
       "\n",
       "    .dataframe tbody tr th {\n",
       "        vertical-align: top;\n",
       "    }\n",
       "\n",
       "    .dataframe thead th {\n",
       "        text-align: right;\n",
       "    }\n",
       "</style>\n",
       "<table border=\"1\" class=\"dataframe\">\n",
       "  <thead>\n",
       "    <tr style=\"text-align: right;\">\n",
       "      <th></th>\n",
       "      <th>Loan_ID</th>\n",
       "      <th>Gender</th>\n",
       "      <th>Married</th>\n",
       "      <th>Dependents</th>\n",
       "      <th>Education</th>\n",
       "      <th>Self_Employed</th>\n",
       "      <th>ApplicantIncome</th>\n",
       "      <th>CoapplicantIncome</th>\n",
       "      <th>LoanAmount</th>\n",
       "      <th>Loan_Amount_Term</th>\n",
       "      <th>Credit_History</th>\n",
       "      <th>Property_Area</th>\n",
       "      <th>Loan_Status</th>\n",
       "    </tr>\n",
       "  </thead>\n",
       "  <tbody>\n",
       "    <tr>\n",
       "      <th>0</th>\n",
       "      <td>LP001002</td>\n",
       "      <td>Male</td>\n",
       "      <td>No</td>\n",
       "      <td>0</td>\n",
       "      <td>Graduate</td>\n",
       "      <td>No</td>\n",
       "      <td>5849</td>\n",
       "      <td>0.0</td>\n",
       "      <td>NaN</td>\n",
       "      <td>360.0</td>\n",
       "      <td>1.0</td>\n",
       "      <td>Urban</td>\n",
       "      <td>Y</td>\n",
       "    </tr>\n",
       "    <tr>\n",
       "      <th>1</th>\n",
       "      <td>LP001003</td>\n",
       "      <td>Male</td>\n",
       "      <td>Yes</td>\n",
       "      <td>1</td>\n",
       "      <td>Graduate</td>\n",
       "      <td>No</td>\n",
       "      <td>4583</td>\n",
       "      <td>1508.0</td>\n",
       "      <td>128.0</td>\n",
       "      <td>360.0</td>\n",
       "      <td>1.0</td>\n",
       "      <td>Rural</td>\n",
       "      <td>N</td>\n",
       "    </tr>\n",
       "    <tr>\n",
       "      <th>2</th>\n",
       "      <td>LP001005</td>\n",
       "      <td>Male</td>\n",
       "      <td>Yes</td>\n",
       "      <td>0</td>\n",
       "      <td>Graduate</td>\n",
       "      <td>Yes</td>\n",
       "      <td>3000</td>\n",
       "      <td>0.0</td>\n",
       "      <td>66.0</td>\n",
       "      <td>360.0</td>\n",
       "      <td>1.0</td>\n",
       "      <td>Urban</td>\n",
       "      <td>Y</td>\n",
       "    </tr>\n",
       "    <tr>\n",
       "      <th>3</th>\n",
       "      <td>LP001006</td>\n",
       "      <td>Male</td>\n",
       "      <td>Yes</td>\n",
       "      <td>0</td>\n",
       "      <td>Not Graduate</td>\n",
       "      <td>No</td>\n",
       "      <td>2583</td>\n",
       "      <td>2358.0</td>\n",
       "      <td>120.0</td>\n",
       "      <td>360.0</td>\n",
       "      <td>1.0</td>\n",
       "      <td>Urban</td>\n",
       "      <td>Y</td>\n",
       "    </tr>\n",
       "    <tr>\n",
       "      <th>4</th>\n",
       "      <td>LP001008</td>\n",
       "      <td>Male</td>\n",
       "      <td>No</td>\n",
       "      <td>0</td>\n",
       "      <td>Graduate</td>\n",
       "      <td>No</td>\n",
       "      <td>6000</td>\n",
       "      <td>0.0</td>\n",
       "      <td>141.0</td>\n",
       "      <td>360.0</td>\n",
       "      <td>1.0</td>\n",
       "      <td>Urban</td>\n",
       "      <td>Y</td>\n",
       "    </tr>\n",
       "  </tbody>\n",
       "</table>\n",
       "</div>"
      ],
      "text/plain": [
       "    Loan_ID Gender Married Dependents     Education Self_Employed  \\\n",
       "0  LP001002   Male      No          0      Graduate            No   \n",
       "1  LP001003   Male     Yes          1      Graduate            No   \n",
       "2  LP001005   Male     Yes          0      Graduate           Yes   \n",
       "3  LP001006   Male     Yes          0  Not Graduate            No   \n",
       "4  LP001008   Male      No          0      Graduate            No   \n",
       "\n",
       "   ApplicantIncome  CoapplicantIncome  LoanAmount  Loan_Amount_Term  \\\n",
       "0             5849                0.0         NaN             360.0   \n",
       "1             4583             1508.0       128.0             360.0   \n",
       "2             3000                0.0        66.0             360.0   \n",
       "3             2583             2358.0       120.0             360.0   \n",
       "4             6000                0.0       141.0             360.0   \n",
       "\n",
       "   Credit_History Property_Area Loan_Status  \n",
       "0             1.0         Urban           Y  \n",
       "1             1.0         Rural           N  \n",
       "2             1.0         Urban           Y  \n",
       "3             1.0         Urban           Y  \n",
       "4             1.0         Urban           Y  "
      ]
     },
     "execution_count": 2,
     "metadata": {},
     "output_type": "execute_result"
    }
   ],
   "source": [
    "data = pd.read_csv('LoanData.csv')\n",
    "data.head() # past data -> already completed"
   ]
  },
  {
   "cell_type": "markdown",
   "id": "b8f2c5fd",
   "metadata": {},
   "source": [
    "# Step 2: Data Understanding\n",
    "\n",
    "- Loan_ID : Unique Loan ID\n",
    "- Gender : Male/Female\n",
    "- Married : Applicant married\n",
    "- Dependents : Number of dependents\n",
    "- Education : Applicant Education\n",
    "- Self_Employed : whether the applicant is Self employed\n",
    "- Applicant Income : Applicant Income in dollar's \n",
    "- Coapplicant Income : Coapplicant income dollar's \n",
    "- LoanAmount : Loan amount in thousands dollar's \n",
    "- Loan_Amount_Term : Term of loan in months\n",
    "- Credit_History : credit history meets guidelines\n",
    "- Property_Area : Urban/Semi Urban/Rural\n",
    "- Loan_Status : Loan approved __target variable__"
   ]
  },
  {
   "cell_type": "code",
   "execution_count": 3,
   "id": "7c327d4b",
   "metadata": {},
   "outputs": [],
   "source": [
    "# Loan_Status -> output variable"
   ]
  },
  {
   "cell_type": "code",
   "execution_count": 4,
   "id": "ed7a153d",
   "metadata": {},
   "outputs": [
    {
     "name": "stdout",
     "output_type": "stream",
     "text": [
      "<class 'pandas.core.frame.DataFrame'>\n",
      "RangeIndex: 614 entries, 0 to 613\n",
      "Data columns (total 13 columns):\n",
      " #   Column             Non-Null Count  Dtype  \n",
      "---  ------             --------------  -----  \n",
      " 0   Loan_ID            614 non-null    object \n",
      " 1   Gender             601 non-null    object \n",
      " 2   Married            611 non-null    object \n",
      " 3   Dependents         599 non-null    object \n",
      " 4   Education          614 non-null    object \n",
      " 5   Self_Employed      582 non-null    object \n",
      " 6   ApplicantIncome    614 non-null    int64  \n",
      " 7   CoapplicantIncome  614 non-null    float64\n",
      " 8   LoanAmount         592 non-null    float64\n",
      " 9   Loan_Amount_Term   600 non-null    float64\n",
      " 10  Credit_History     564 non-null    float64\n",
      " 11  Property_Area      614 non-null    object \n",
      " 12  Loan_Status        614 non-null    object \n",
      "dtypes: float64(4), int64(1), object(8)\n",
      "memory usage: 62.5+ KB\n"
     ]
    }
   ],
   "source": [
    "data.info()"
   ]
  },
  {
   "cell_type": "code",
   "execution_count": 5,
   "id": "af5ffadf",
   "metadata": {},
   "outputs": [
    {
     "data": {
      "text/plain": [
       "Index(['Loan_ID', 'Gender', 'Married', 'Dependents', 'Education',\n",
       "       'Self_Employed', 'ApplicantIncome', 'CoapplicantIncome', 'LoanAmount',\n",
       "       'Loan_Amount_Term', 'Credit_History', 'Property_Area', 'Loan_Status'],\n",
       "      dtype='object')"
      ]
     },
     "execution_count": 5,
     "metadata": {},
     "output_type": "execute_result"
    }
   ],
   "source": [
    "data.columns # first step start with the renaming the columns\n",
    "# if any columns names is wrong then rename it properly is the first step "
   ]
  },
  {
   "cell_type": "code",
   "execution_count": 6,
   "id": "c7244ea1",
   "metadata": {},
   "outputs": [
    {
     "data": {
      "text/plain": [
       "614"
      ]
     },
     "execution_count": 6,
     "metadata": {},
     "output_type": "execute_result"
    }
   ],
   "source": [
    "data['Loan_ID'].nunique() # Loan_ID is a unique value it is not important for me \n",
    "# so cross checking how many unique values are there \n",
    "# for 614 records 614 unique records are there \n",
    "# nunique means no. of unique values or apply the len() function or .shape  -> total no. of records\n",
    "# data['Loan_ID'].unique() -> it will give the all the unique value in 1D array                "
   ]
  },
  {
   "cell_type": "markdown",
   "id": "ae34e41e",
   "metadata": {},
   "source": [
    "__Drop unimportant columns as per feature Selection (Filter Methods)__"
   ]
  },
  {
   "cell_type": "code",
   "execution_count": 7,
   "id": "51a588c4",
   "metadata": {},
   "outputs": [],
   "source": [
    "data.drop(columns=[\"Loan_ID\"],inplace=True) # as this column is not important so i am dropping that column\n",
    "# so first column was dropped "
   ]
  },
  {
   "cell_type": "code",
   "execution_count": 8,
   "id": "226395a7",
   "metadata": {},
   "outputs": [
    {
     "data": {
      "text/plain": [
       "array(['Male', 'Female', nan], dtype=object)"
      ]
     },
     "execution_count": 8,
     "metadata": {},
     "output_type": "execute_result"
    }
   ],
   "source": [
    "data[\"Gender\"].unique()\n",
    "# now second column gender check the categories because it is a categorical variable \n",
    "# if it is a continous variable i have to check the minimum value,  maximum value, standard deviation value, mean value \n",
    "\n",
    "# nan ->> missing values "
   ]
  },
  {
   "cell_type": "code",
   "execution_count": 9,
   "id": "7edf7aa9",
   "metadata": {},
   "outputs": [
    {
     "data": {
      "text/plain": [
       "Male      489\n",
       "Female    112\n",
       "Name: Gender, dtype: int64"
      ]
     },
     "execution_count": 9,
     "metadata": {},
     "output_type": "execute_result"
    }
   ],
   "source": [
    "data[\"Gender\"].value_counts() # so mode is Male \n",
    "# whatever the thing i am observed that i am write in notes "
   ]
  },
  {
   "cell_type": "code",
   "execution_count": 10,
   "id": "6f9ecbdd",
   "metadata": {},
   "outputs": [
    {
     "data": {
      "text/plain": [
       "array(['No', 'Yes', nan], dtype=object)"
      ]
     },
     "execution_count": 10,
     "metadata": {},
     "output_type": "execute_result"
    }
   ],
   "source": [
    "# now column no. 3 \n",
    "data[\"Married\"].unique()# so it is also having two categories , and also some missing values "
   ]
  },
  {
   "cell_type": "code",
   "execution_count": 11,
   "id": "acd38691",
   "metadata": {},
   "outputs": [
    {
     "data": {
      "text/plain": [
       "Yes    398\n",
       "No     213\n",
       "Name: Married, dtype: int64"
      ]
     },
     "execution_count": 11,
     "metadata": {},
     "output_type": "execute_result"
    }
   ],
   "source": [
    "data[\"Married\"].value_counts()"
   ]
  },
  {
   "cell_type": "code",
   "execution_count": 12,
   "id": "dc113d88",
   "metadata": {},
   "outputs": [
    {
     "data": {
      "text/plain": [
       "array(['0', '1', '2', '3+', nan], dtype=object)"
      ]
     },
     "execution_count": 12,
     "metadata": {},
     "output_type": "execute_result"
    }
   ],
   "source": [
    "# now column no. 4 -> it is a Count Variable\n",
    "data[\"Dependents\"].unique() "
   ]
  },
  {
   "cell_type": "code",
   "execution_count": 13,
   "id": "b1815820",
   "metadata": {},
   "outputs": [],
   "source": [
    "# '3+' is in string format but count should be in int format \n",
    "# in this column wrong data is there wrong datatype is also there \n",
    "# that we have to write in the notes so that in data cleaning first we treat the wrong data followed by wrong data type "
   ]
  },
  {
   "cell_type": "code",
   "execution_count": 14,
   "id": "92a14833",
   "metadata": {},
   "outputs": [
    {
     "data": {
      "text/plain": [
       "0     345\n",
       "1     102\n",
       "2     101\n",
       "3+     51\n",
       "Name: Dependents, dtype: int64"
      ]
     },
     "execution_count": 14,
     "metadata": {},
     "output_type": "execute_result"
    }
   ],
   "source": [
    "data[\"Dependents\"].value_counts()"
   ]
  },
  {
   "cell_type": "code",
   "execution_count": 15,
   "id": "b3443ae0",
   "metadata": {},
   "outputs": [],
   "source": [
    "# so write in notes that this particular column is having some wrong data with wrong data type "
   ]
  },
  {
   "cell_type": "code",
   "execution_count": 16,
   "id": "cbceccad",
   "metadata": {},
   "outputs": [
    {
     "data": {
      "text/plain": [
       "array(['Graduate', 'Not Graduate'], dtype=object)"
      ]
     },
     "execution_count": 16,
     "metadata": {},
     "output_type": "execute_result"
    }
   ],
   "source": [
    "# now column no. 5 'Education' \n",
    "data[\"Education\"].unique() "
   ]
  },
  {
   "cell_type": "code",
   "execution_count": 17,
   "id": "06b36166",
   "metadata": {},
   "outputs": [],
   "source": [
    "# so it is also a categorical variable "
   ]
  },
  {
   "cell_type": "code",
   "execution_count": 18,
   "id": "5081d0d4",
   "metadata": {},
   "outputs": [
    {
     "data": {
      "text/plain": [
       "Graduate        480\n",
       "Not Graduate    134\n",
       "Name: Education, dtype: int64"
      ]
     },
     "execution_count": 18,
     "metadata": {},
     "output_type": "execute_result"
    }
   ],
   "source": [
    "data[\"Education\"].value_counts()"
   ]
  },
  {
   "cell_type": "code",
   "execution_count": 19,
   "id": "18709481",
   "metadata": {},
   "outputs": [],
   "source": [
    "# so for all categorical variables and count variable (which is discrete) we apply unique() and value_counts()\n",
    "# for Discrete Variable we apply the unique() and value_counts()"
   ]
  },
  {
   "cell_type": "code",
   "execution_count": 20,
   "id": "d5706803",
   "metadata": {},
   "outputs": [
    {
     "data": {
      "text/plain": [
       "array(['No', 'Yes', nan], dtype=object)"
      ]
     },
     "execution_count": 20,
     "metadata": {},
     "output_type": "execute_result"
    }
   ],
   "source": [
    "data[\"Self_Employed\"].unique()"
   ]
  },
  {
   "cell_type": "code",
   "execution_count": 21,
   "id": "dfac49b1",
   "metadata": {},
   "outputs": [
    {
     "data": {
      "text/plain": [
       "No     500\n",
       "Yes     82\n",
       "Name: Self_Employed, dtype: int64"
      ]
     },
     "execution_count": 21,
     "metadata": {},
     "output_type": "execute_result"
    }
   ],
   "source": [
    "data['Self_Employed'].value_counts()"
   ]
  },
  {
   "cell_type": "code",
   "execution_count": 22,
   "id": "c057865d",
   "metadata": {},
   "outputs": [],
   "source": [
    "# means for this paricular company more number of non self employed means more no.of salaried people are applying \n",
    "# less number of less salaried people are applying for this particular company "
   ]
  },
  {
   "cell_type": "markdown",
   "id": "5308824a",
   "metadata": {},
   "source": [
    "__Create New Columns as per requirements__"
   ]
  },
  {
   "cell_type": "code",
   "execution_count": 23,
   "id": "bf918797",
   "metadata": {},
   "outputs": [],
   "source": [
    "# loan company check income in the combination of both ApplicantIncome and CoapplicantIncome based on that they are going to give the loan\n",
    "# sometime the coapplicant people are not there so the coapplicant should be 0 \n",
    "# if any misssing value are there within a coapplicant it has to consider as a 0 means that person not having the coapplicant the income is 0"
   ]
  },
  {
   "cell_type": "code",
   "execution_count": 24,
   "id": "4005c1d7",
   "metadata": {},
   "outputs": [],
   "source": [
    "# if the person is having the coapplicant then you combine the applicant and coapplicant "
   ]
  },
  {
   "cell_type": "code",
   "execution_count": 25,
   "id": "cc51d3e6",
   "metadata": {},
   "outputs": [],
   "source": [
    "data[\"Income\"] = data[\"ApplicantIncome\"] + data[\"CoapplicantIncome\"]   # ex: Father + son combining apply for the loan\n",
    "  \n",
    "data.drop(columns=[\"ApplicantIncome\",\"CoapplicantIncome\"],inplace=True)"
   ]
  },
  {
   "cell_type": "code",
   "execution_count": 26,
   "id": "aa2c360a",
   "metadata": {},
   "outputs": [
    {
     "data": {
      "text/plain": [
       "count      614.000000\n",
       "mean      7024.705081\n",
       "std       6458.663872\n",
       "min       1442.000000\n",
       "25%       4166.000000\n",
       "50%       5416.500000\n",
       "75%       7521.750000\n",
       "max      81000.000000\n",
       "Name: Income, dtype: float64"
      ]
     },
     "execution_count": 26,
     "metadata": {},
     "output_type": "execute_result"
    }
   ],
   "source": [
    "data[\"Income\"].describe() # for continous variable we apply the describe() function and observe min to max values "
   ]
  },
  {
   "cell_type": "code",
   "execution_count": 27,
   "id": "140ea0bd",
   "metadata": {},
   "outputs": [],
   "source": [
    "# so here we not replace the outliers , not remove the outliers , we retrain the outliers\n",
    "# for this particular column we are retrain the outlier -> it completely depends on Business Problem"
   ]
  },
  {
   "cell_type": "code",
   "execution_count": 28,
   "id": "1489a381",
   "metadata": {},
   "outputs": [
    {
     "data": {
      "text/plain": [
       "array([360., 120., 240.,  nan, 180.,  60., 300., 480.,  36.,  84.,  12.])"
      ]
     },
     "execution_count": 28,
     "metadata": {},
     "output_type": "execute_result"
    }
   ],
   "source": [
    "# Loan_Amount_Term is a count variable   # how many months  # ex: 360 months = 30 years\n",
    "\n",
    "data[\"Loan_Amount_Term\"].unique() # it is in float, due to 1 missing value everything is in float# later we converted it into int"
   ]
  },
  {
   "cell_type": "code",
   "execution_count": 29,
   "id": "5bfa5d0a",
   "metadata": {},
   "outputs": [
    {
     "data": {
      "text/plain": [
       "360.0    512\n",
       "180.0     44\n",
       "480.0     15\n",
       "300.0     13\n",
       "240.0      4\n",
       "84.0       4\n",
       "120.0      3\n",
       "60.0       2\n",
       "36.0       2\n",
       "12.0       1\n",
       "Name: Loan_Amount_Term, dtype: int64"
      ]
     },
     "execution_count": 29,
     "metadata": {},
     "output_type": "execute_result"
    }
   ],
   "source": [
    "data[\"Loan_Amount_Term\"].value_counts()"
   ]
  },
  {
   "cell_type": "code",
   "execution_count": 30,
   "id": "c8fa4e83",
   "metadata": {},
   "outputs": [
    {
     "data": {
      "text/plain": [
       "array([ 1.,  0., nan])"
      ]
     },
     "execution_count": 30,
     "metadata": {},
     "output_type": "execute_result"
    }
   ],
   "source": [
    "data[\"Credit_History\"].unique() # 1 => good credit history 0 => bad credit history\n",
    "# it is a discrete categorical which is already encoded "
   ]
  },
  {
   "cell_type": "code",
   "execution_count": 31,
   "id": "b6d327cd",
   "metadata": {},
   "outputs": [],
   "source": [
    "# let us bring back to original data as of now\n",
    "data[\"Credit_History\"] = data[\"Credit_History\"].replace({1:'good',0:'bad'}) # later we do again encoding "
   ]
  },
  {
   "cell_type": "code",
   "execution_count": 32,
   "id": "4174586c",
   "metadata": {},
   "outputs": [
    {
     "data": {
      "text/plain": [
       "array(['good', 'bad', nan], dtype=object)"
      ]
     },
     "execution_count": 32,
     "metadata": {},
     "output_type": "execute_result"
    }
   ],
   "source": [
    "data[\"Credit_History\"].unique() "
   ]
  },
  {
   "cell_type": "code",
   "execution_count": 33,
   "id": "a77cc331",
   "metadata": {},
   "outputs": [
    {
     "data": {
      "text/plain": [
       "good    475\n",
       "bad      89\n",
       "Name: Credit_History, dtype: int64"
      ]
     },
     "execution_count": 33,
     "metadata": {},
     "output_type": "execute_result"
    }
   ],
   "source": [
    "data[\"Credit_History\"].value_counts()# so credit history also categorical variable "
   ]
  },
  {
   "cell_type": "code",
   "execution_count": 34,
   "id": "6eb08559",
   "metadata": {},
   "outputs": [
    {
     "data": {
      "text/plain": [
       "array(['Urban', 'Rural', 'Semiurban'], dtype=object)"
      ]
     },
     "execution_count": 34,
     "metadata": {},
     "output_type": "execute_result"
    }
   ],
   "source": [
    "data[\"Property_Area\"].unique() # in different areas they are going to give the Loan"
   ]
  },
  {
   "cell_type": "code",
   "execution_count": 35,
   "id": "2598dd16",
   "metadata": {},
   "outputs": [
    {
     "data": {
      "text/plain": [
       "Semiurban    233\n",
       "Urban        202\n",
       "Rural        179\n",
       "Name: Property_Area, dtype: int64"
      ]
     },
     "execution_count": 35,
     "metadata": {},
     "output_type": "execute_result"
    }
   ],
   "source": [
    "data[\"Property_Area\"].value_counts()"
   ]
  },
  {
   "cell_type": "code",
   "execution_count": 36,
   "id": "3560b017",
   "metadata": {},
   "outputs": [
    {
     "data": {
      "text/plain": [
       "array(['Y', 'N'], dtype=object)"
      ]
     },
     "execution_count": 36,
     "metadata": {},
     "output_type": "execute_result"
    }
   ],
   "source": [
    "data[\"Loan_Status\"].unique() # output variable # in my output variable only 2 categories are there either Yes or No \n",
    "# so it is a Binary Classification project "
   ]
  },
  {
   "cell_type": "code",
   "execution_count": 37,
   "id": "621a4150",
   "metadata": {},
   "outputs": [
    {
     "data": {
      "text/plain": [
       "Y    422\n",
       "N    192\n",
       "Name: Loan_Status, dtype: int64"
      ]
     },
     "execution_count": 37,
     "metadata": {},
     "output_type": "execute_result"
    }
   ],
   "source": [
    "data[\"Loan_Status\"].value_counts()"
   ]
  },
  {
   "cell_type": "code",
   "execution_count": 38,
   "id": "23c97af3",
   "metadata": {},
   "outputs": [],
   "source": [
    "continous = [\"Income\", \"LoanAmount\"]\n",
    "\n",
    "discrete_categorical = [\"Gender\", \"Married\", \"Education\", \"Self_Employed\",\n",
    "                       \"Credit_History\", \"Property_Area\", \"Loan_Status\"]  #property_Area has only three categories rest all are having two categories\n",
    "\n",
    "discrete_count = [\"Dependents\", \"Loan_Amount_Term\"]"
   ]
  },
  {
   "cell_type": "markdown",
   "id": "5c335b18",
   "metadata": {},
   "source": [
    "__Exploratory Data Analysis (EDA)__\n",
    "\n",
    "__for continous Variables__"
   ]
  },
  {
   "cell_type": "code",
   "execution_count": 39,
   "id": "bfb42e1c",
   "metadata": {},
   "outputs": [
    {
     "data": {
      "text/html": [
       "<div>\n",
       "<style scoped>\n",
       "    .dataframe tbody tr th:only-of-type {\n",
       "        vertical-align: middle;\n",
       "    }\n",
       "\n",
       "    .dataframe tbody tr th {\n",
       "        vertical-align: top;\n",
       "    }\n",
       "\n",
       "    .dataframe thead th {\n",
       "        text-align: right;\n",
       "    }\n",
       "</style>\n",
       "<table border=\"1\" class=\"dataframe\">\n",
       "  <thead>\n",
       "    <tr style=\"text-align: right;\">\n",
       "      <th></th>\n",
       "      <th>Income</th>\n",
       "      <th>LoanAmount</th>\n",
       "    </tr>\n",
       "  </thead>\n",
       "  <tbody>\n",
       "    <tr>\n",
       "      <th>count</th>\n",
       "      <td>614.000000</td>\n",
       "      <td>592.000000</td>\n",
       "    </tr>\n",
       "    <tr>\n",
       "      <th>mean</th>\n",
       "      <td>7024.705081</td>\n",
       "      <td>146.412162</td>\n",
       "    </tr>\n",
       "    <tr>\n",
       "      <th>std</th>\n",
       "      <td>6458.663872</td>\n",
       "      <td>85.587325</td>\n",
       "    </tr>\n",
       "    <tr>\n",
       "      <th>min</th>\n",
       "      <td>1442.000000</td>\n",
       "      <td>9.000000</td>\n",
       "    </tr>\n",
       "    <tr>\n",
       "      <th>25%</th>\n",
       "      <td>4166.000000</td>\n",
       "      <td>100.000000</td>\n",
       "    </tr>\n",
       "    <tr>\n",
       "      <th>50%</th>\n",
       "      <td>5416.500000</td>\n",
       "      <td>128.000000</td>\n",
       "    </tr>\n",
       "    <tr>\n",
       "      <th>75%</th>\n",
       "      <td>7521.750000</td>\n",
       "      <td>168.000000</td>\n",
       "    </tr>\n",
       "    <tr>\n",
       "      <th>max</th>\n",
       "      <td>81000.000000</td>\n",
       "      <td>700.000000</td>\n",
       "    </tr>\n",
       "  </tbody>\n",
       "</table>\n",
       "</div>"
      ],
      "text/plain": [
       "             Income  LoanAmount\n",
       "count    614.000000  592.000000\n",
       "mean    7024.705081  146.412162\n",
       "std     6458.663872   85.587325\n",
       "min     1442.000000    9.000000\n",
       "25%     4166.000000  100.000000\n",
       "50%     5416.500000  128.000000\n",
       "75%     7521.750000  168.000000\n",
       "max    81000.000000  700.000000"
      ]
     },
     "execution_count": 39,
     "metadata": {},
     "output_type": "execute_result"
    }
   ],
   "source": [
    "data[continous].describe() # for continous variable we use describe() function and "
   ]
  },
  {
   "cell_type": "code",
   "execution_count": 40,
   "id": "f54d4ca1",
   "metadata": {},
   "outputs": [],
   "source": [
    "# now we take the sub plot , using the subplot we observing the Histogram between (Income & LoanAmount)\n",
    "# for continous variable we apply Histogram and Boxplot \n",
    "# for discrete variable we apply Bar plot or Count plot  "
   ]
  },
  {
   "cell_type": "code",
   "execution_count": 41,
   "id": "604ff1ba",
   "metadata": {},
   "outputs": [
    {
     "data": {
      "image/png": "[encoded data removed]",
      "text/plain": [
       "<Figure size 1800x800 with 2 Axes>"
      ]
     },
     "metadata": {},
     "output_type": "display_data"
    }
   ],
   "source": [
    "plt.rcParams['figure.figsize'] = (18,8)\n",
    "\n",
    "plt.subplot(1,2,1)\n",
    "sns.histplot(data['Income'],kde=True)\n",
    "\n",
    "plt.subplot(1,2,2)\n",
    "sns.histplot(data['LoanAmount'],kde=True)\n",
    "\n",
    "plt.suptitle('Univariate Analysis on Numerical Columns')\n",
    "plt.show()"
   ]
  },
  {
   "cell_type": "code",
   "execution_count": 42,
   "id": "0c7611a1",
   "metadata": {},
   "outputs": [],
   "source": [
    "# so we can see both are Right Skewed Data\n",
    "# most of the people having income between 0 to 10000 (dollars)\n",
    "# most of the people apply Loan between 0 to 200 (thousands dollars)-> 0-2lakh dollar's \n",
    "# who are having high income obviously they apply for the high Loan only na. "
   ]
  },
  {
   "cell_type": "code",
   "execution_count": 43,
   "id": "16fbf596",
   "metadata": {},
   "outputs": [],
   "source": [
    "# now we apply the heat map with correlation coefficient"
   ]
  },
  {
   "cell_type": "code",
   "execution_count": 44,
   "id": "ba2676a0",
   "metadata": {},
   "outputs": [
    {
     "data": {
      "image/png": "[encoded data removed]",
      "text/plain": [
       "<Figure size 1800x800 with 2 Axes>"
      ]
     },
     "metadata": {},
     "output_type": "display_data"
    }
   ],
   "source": [
    "sns.heatmap(data[continous].corr(),annot=True)\n",
    "plt.show()"
   ]
  },
  {
   "cell_type": "code",
   "execution_count": 45,
   "id": "0c5c899f",
   "metadata": {},
   "outputs": [],
   "source": [
    "# the corelation is also 0.62 is there , it is not crossing 0.8 , so there is no colinearity problem"
   ]
  },
  {
   "cell_type": "code",
   "execution_count": 46,
   "id": "daec6177",
   "metadata": {},
   "outputs": [],
   "source": [
    "# now pair plot -> for continous variable we apply the pair plot"
   ]
  },
  {
   "cell_type": "code",
   "execution_count": 47,
   "id": "e2130b50",
   "metadata": {},
   "outputs": [
    {
     "data": {
      "image/png": "[encoded data removed]",
      "text/plain": [
       "<Figure size 500x500 with 6 Axes>"
      ]
     },
     "metadata": {},
     "output_type": "display_data"
    }
   ],
   "source": [
    "sns.pairplot(data[continous])\n",
    "plt.show()"
   ]
  },
  {
   "cell_type": "markdown",
   "id": "c2baa3c1",
   "metadata": {},
   "source": [
    "__For Discrete Variables__"
   ]
  },
  {
   "cell_type": "code",
   "execution_count": 48,
   "id": "aefedb7a",
   "metadata": {},
   "outputs": [
    {
     "data": {
      "text/html": [
       "<div>\n",
       "<style scoped>\n",
       "    .dataframe tbody tr th:only-of-type {\n",
       "        vertical-align: middle;\n",
       "    }\n",
       "\n",
       "    .dataframe tbody tr th {\n",
       "        vertical-align: top;\n",
       "    }\n",
       "\n",
       "    .dataframe thead th {\n",
       "        text-align: right;\n",
       "    }\n",
       "</style>\n",
       "<table border=\"1\" class=\"dataframe\">\n",
       "  <thead>\n",
       "    <tr style=\"text-align: right;\">\n",
       "      <th></th>\n",
       "      <th>Gender</th>\n",
       "      <th>Married</th>\n",
       "      <th>Education</th>\n",
       "      <th>Self_Employed</th>\n",
       "      <th>Credit_History</th>\n",
       "      <th>Property_Area</th>\n",
       "      <th>Loan_Status</th>\n",
       "    </tr>\n",
       "  </thead>\n",
       "  <tbody>\n",
       "    <tr>\n",
       "      <th>count</th>\n",
       "      <td>601</td>\n",
       "      <td>611</td>\n",
       "      <td>614</td>\n",
       "      <td>582</td>\n",
       "      <td>564</td>\n",
       "      <td>614</td>\n",
       "      <td>614</td>\n",
       "    </tr>\n",
       "    <tr>\n",
       "      <th>unique</th>\n",
       "      <td>2</td>\n",
       "      <td>2</td>\n",
       "      <td>2</td>\n",
       "      <td>2</td>\n",
       "      <td>2</td>\n",
       "      <td>3</td>\n",
       "      <td>2</td>\n",
       "    </tr>\n",
       "    <tr>\n",
       "      <th>top</th>\n",
       "      <td>Male</td>\n",
       "      <td>Yes</td>\n",
       "      <td>Graduate</td>\n",
       "      <td>No</td>\n",
       "      <td>good</td>\n",
       "      <td>Semiurban</td>\n",
       "      <td>Y</td>\n",
       "    </tr>\n",
       "    <tr>\n",
       "      <th>freq</th>\n",
       "      <td>489</td>\n",
       "      <td>398</td>\n",
       "      <td>480</td>\n",
       "      <td>500</td>\n",
       "      <td>475</td>\n",
       "      <td>233</td>\n",
       "      <td>422</td>\n",
       "    </tr>\n",
       "  </tbody>\n",
       "</table>\n",
       "</div>"
      ],
      "text/plain": [
       "       Gender Married Education Self_Employed Credit_History Property_Area  \\\n",
       "count     601     611       614           582            564           614   \n",
       "unique      2       2         2             2              2             3   \n",
       "top      Male     Yes  Graduate            No           good     Semiurban   \n",
       "freq      489     398       480           500            475           233   \n",
       "\n",
       "       Loan_Status  \n",
       "count          614  \n",
       "unique           2  \n",
       "top              Y  \n",
       "freq           422  "
      ]
     },
     "execution_count": 48,
     "metadata": {},
     "output_type": "execute_result"
    }
   ],
   "source": [
    "data[discrete_categorical].describe()"
   ]
  },
  {
   "cell_type": "code",
   "execution_count": 49,
   "id": "e80a92d2",
   "metadata": {},
   "outputs": [],
   "source": [
    "# for discrete variable we apply the count plot"
   ]
  },
  {
   "cell_type": "code",
   "execution_count": 50,
   "id": "3de5531b",
   "metadata": {},
   "outputs": [
    {
     "data": {
      "image/png": "[encoded data removed]",
      "text/plain": [
       "<Figure size 1800x800 with 6 Axes>"
      ]
     },
     "metadata": {},
     "output_type": "display_data"
    }
   ],
   "source": [
    "plt.rcParams['figure.figsize'] = (18,8)\n",
    "    \n",
    "plt.subplot(2,3,1)\n",
    "sns.countplot(data['Gender'])\n",
    "\n",
    "plt.subplot(2,3,2)\n",
    "sns.countplot(data['Married'])\n",
    "\n",
    "plt.subplot(2,3,3)\n",
    "sns.countplot(data['Self_Employed'])\n",
    "\n",
    "plt.subplot(2,3,4)\n",
    "sns.countplot(data['Property_Area'])\n",
    "\n",
    "plt.subplot(2,3,5)\n",
    "sns.countplot(data['Education'])\n",
    "\n",
    "plt.subplot(2,3,6)\n",
    "sns.countplot(data['Loan_Status'])\n",
    "\n",
    "plt.suptitle('Univariate Analysis on Categorical Columns')\n",
    "plt.show()"
   ]
  },
  {
   "cell_type": "markdown",
   "id": "e9a58b99",
   "metadata": {},
   "source": [
    "__check for Missing Values__"
   ]
  },
  {
   "cell_type": "code",
   "execution_count": 51,
   "id": "2c6e5f02",
   "metadata": {},
   "outputs": [
    {
     "data": {
      "text/plain": [
       "Gender              13\n",
       "Married              3\n",
       "Dependents          15\n",
       "Education            0\n",
       "Self_Employed       32\n",
       "LoanAmount          22\n",
       "Loan_Amount_Term    14\n",
       "Credit_History      50\n",
       "Property_Area        0\n",
       "Loan_Status          0\n",
       "Income               0\n",
       "dtype: int64"
      ]
     },
     "execution_count": 51,
     "metadata": {},
     "output_type": "execute_result"
    }
   ],
   "source": [
    "data.isnull().sum()"
   ]
  },
  {
   "cell_type": "markdown",
   "id": "9c0d031e",
   "metadata": {},
   "source": [
    "__check for Skewness__"
   ]
  },
  {
   "cell_type": "code",
   "execution_count": 52,
   "id": "0b5329d0",
   "metadata": {},
   "outputs": [
    {
     "data": {
      "text/plain": [
       "Income        5.633449\n",
       "LoanAmount    2.677552\n",
       "dtype: float64"
      ]
     },
     "execution_count": 52,
     "metadata": {},
     "output_type": "execute_result"
    }
   ],
   "source": [
    "data[continous].skew() # Income column heavily Right Skewed # LoanAmount is also Right Skewed\n",
    "# both of them are right skewed "
   ]
  },
  {
   "cell_type": "markdown",
   "id": "d3fa35c1",
   "metadata": {},
   "source": [
    "__check outliers__"
   ]
  },
  {
   "cell_type": "code",
   "execution_count": 53,
   "id": "7960cff7",
   "metadata": {},
   "outputs": [
    {
     "data": {
      "image/png": "[encoded data removed]",
      "text/plain": [
       "<Figure size 1800x800 with 2 Axes>"
      ]
     },
     "metadata": {},
     "output_type": "display_data"
    }
   ],
   "source": [
    "# lets visualize the outliers using Box Plot\n",
    "\n",
    "plt.subplot(1, 2, 1)\n",
    "sns.boxplot(data['Income'])\n",
    "\n",
    "plt.subplot(1,2,2)\n",
    "sns.boxplot(data['LoanAmount'])\n",
    "\n",
    "plt.suptitle('Outliers in the Data')\n",
    "plt.show()"
   ]
  },
  {
   "cell_type": "code",
   "execution_count": 54,
   "id": "e8422351",
   "metadata": {},
   "outputs": [],
   "source": [
    "# till now we completed the step:2 Data Understanding\n",
    "# in the data understanding we observed each and every columns whatever are there\n",
    "# so here in the data understanding we done the univariate , single columns only we have observed \n",
    "# but in data analysis(step 4) we are going to apply the Bivariate analysis , multiple columns we have observed\n",
    "# what is Bivariate Analysis ? what is the Average salary of Males , average salary of female by apply the groupby()\n",
    "# within male how many are married and how many are not married by applying the crosstab() b/w 2 caategorical variables\n",
    "# within the males how many are Loan eligible and within the female how many are comes under Loan eligible \n",
    "# these all are comes under Data Analysis "
   ]
  },
  {
   "cell_type": "code",
   "execution_count": null,
   "id": "901e5eee",
   "metadata": {},
   "outputs": [],
   "source": []
  },
  {
   "cell_type": "code",
   "execution_count": 55,
   "id": "cedb6cb0",
   "metadata": {},
   "outputs": [],
   "source": [
    "# now third step Data Preprocessing , now we have to clean the data\n",
    "# now earlier whatever the mistake we have observed that is multiple columns have missing value , which column has wrong data,\n",
    "# wrong data type , so whatever we observed earlier now i did data cleaning accordingly in sequential order "
   ]
  },
  {
   "cell_type": "markdown",
   "id": "6da514d0",
   "metadata": {},
   "source": [
    "# Step 3: Data Preprocessing"
   ]
  },
  {
   "cell_type": "code",
   "execution_count": 56,
   "id": "e695622a",
   "metadata": {},
   "outputs": [],
   "source": [
    "# first we start with the wrong data\n",
    "# so first we replace the wrong data "
   ]
  },
  {
   "cell_type": "markdown",
   "id": "ea057fe2",
   "metadata": {},
   "source": [
    "__Wrong Data treatment__"
   ]
  },
  {
   "cell_type": "code",
   "execution_count": 57,
   "id": "88fad46c",
   "metadata": {},
   "outputs": [],
   "source": [
    "data['Dependents'] = data['Dependents'].replace({'3+':3})# '3+' is the wrong data "
   ]
  },
  {
   "cell_type": "code",
   "execution_count": 58,
   "id": "99e47def",
   "metadata": {},
   "outputs": [
    {
     "data": {
      "text/plain": [
       "array(['0', '1', '2', 3, nan], dtype=object)"
      ]
     },
     "execution_count": 58,
     "metadata": {},
     "output_type": "execute_result"
    }
   ],
   "source": [
    "data['Dependents'].unique() # '3+' replace with '3'"
   ]
  },
  {
   "cell_type": "code",
   "execution_count": 59,
   "id": "e09ce4b5",
   "metadata": {},
   "outputs": [
    {
     "data": {
      "text/plain": [
       "0    345\n",
       "1    102\n",
       "2    101\n",
       "3     51\n",
       "Name: Dependents, dtype: int64"
      ]
     },
     "execution_count": 59,
     "metadata": {},
     "output_type": "execute_result"
    }
   ],
   "source": [
    "data['Dependents'].value_counts()"
   ]
  },
  {
   "cell_type": "code",
   "execution_count": null,
   "id": "22efb4d2",
   "metadata": {},
   "outputs": [],
   "source": []
  },
  {
   "cell_type": "code",
   "execution_count": 60,
   "id": "8cef3de2",
   "metadata": {},
   "outputs": [],
   "source": [
    "# for every line of code ask yourself why? you write this line of code only "
   ]
  },
  {
   "cell_type": "code",
   "execution_count": 61,
   "id": "0d78ad60",
   "metadata": {},
   "outputs": [],
   "source": [
    "# so whenever we want to fill the value 2 options will be there \n",
    "# replace with the original data # replace research/Logics \n",
    "# replace statistically (by applying mean, median, mode)"
   ]
  },
  {
   "cell_type": "code",
   "execution_count": 62,
   "id": "0f4bd9a6",
   "metadata": {},
   "outputs": [],
   "source": [
    "# and you can also connect with backend team for missing values\n",
    "\n",
    "# hi team,\n",
    "# the following data is missing for doing analysis ,\n",
    "# please check and try to provide data at the earliest\n",
    "# thankyou\n",
    "\n",
    "# if they reply : this is only the data we received from the client  , we cant do anything ,you have to do analysis on the given data only \n",
    "# then we do with the statistical replacement\n",
    "\n",
    "# till they send the confirmation mail we do the research \n",
    "# and once we get the original data we replace with the original data by using the iloc[]\n",
    "# by using the iloc we fill each and every cell separately \n",
    "# once we fill all the values then we do the preprocessing "
   ]
  },
  {
   "cell_type": "code",
   "execution_count": 63,
   "id": "9a43f473",
   "metadata": {},
   "outputs": [],
   "source": [
    "# so we replace statistically the missing values\n",
    "# 'Gender', 'Married', 'Self_Employed' -> These three column we replace with mode \n",
    "# 'Dependents' -> for 'Dependents' we fill the missing values with 0\n",
    "# all these are discrete variable\n",
    "# 'Income' is also having the missing value but we not fill the income value because income value is directly proportional to loan\n",
    "# if the person income is low and i filled with the high value it will impact heavyly so i cant take the risk on the \n",
    "# 'Income','LoanAmount','Loan_Amount_Term','Credit_History' they all directly impact on the Loan eligibility    \n",
    "# ex: if the person is not having the good credit history but i have filled with the mode , having the good credit history \n",
    "# i filled with good , then a bad person will be selected as the good person and they will give the Loan and company have the loss"
   ]
  },
  {
   "cell_type": "markdown",
   "id": "a951e2ef",
   "metadata": {},
   "source": [
    "__Missing Values Treatment__"
   ]
  },
  {
   "cell_type": "code",
   "execution_count": 64,
   "id": "3309b8e4",
   "metadata": {},
   "outputs": [],
   "source": [
    "data['Dependents'] = data['Dependents'].fillna(0) # if the person not write the no. of dependents then 0 dependents are there\n",
    "\n",
    "data['Gender'] = data['Gender'].fillna(data['Gender'].mode()[0])\n",
    "data['Married'] = data['Married'].fillna(data['Married'].mode()[0])\n",
    "data['Self_Employed'] = data['Self_Employed'].fillna(data['Self_Employed'].mode()[0])\n",
    "\n",
    "data = data.dropna(subset=['Income','LoanAmount','Loan_Amount_Term','Credit_History']) # drop the missing values,we should not replace \n",
    "# never we should replace because if we replace that one it would heavily impact  # we cant take the risk\n",
    "# so for these column ['Income','LoanAmount','Loan_Amount_Term','Credit_History'] we drop the missing values we cant replace them"
   ]
  },
  {
   "cell_type": "code",
   "execution_count": 65,
   "id": "c66a9c4b",
   "metadata": {},
   "outputs": [
    {
     "data": {
      "text/plain": [
       "Gender              0\n",
       "Married             0\n",
       "Dependents          0\n",
       "Education           0\n",
       "Self_Employed       0\n",
       "LoanAmount          0\n",
       "Loan_Amount_Term    0\n",
       "Credit_History      0\n",
       "Property_Area       0\n",
       "Loan_Status         0\n",
       "Income              0\n",
       "dtype: int64"
      ]
     },
     "execution_count": 65,
     "metadata": {},
     "output_type": "execute_result"
    }
   ],
   "source": [
    "data.isnull().sum() # all the missing value has been treated"
   ]
  },
  {
   "cell_type": "markdown",
   "id": "c16c255c",
   "metadata": {},
   "source": [
    "__Data type conversion__"
   ]
  },
  {
   "cell_type": "code",
   "execution_count": 66,
   "id": "7640197d",
   "metadata": {},
   "outputs": [],
   "source": [
    "data[\"Dependents\"] = data[\"Dependents\"].astype('int') # string converted to int \n",
    "data['Loan_Amount_Term'] = data['Loan_Amount_Term'].astype('int') "
   ]
  },
  {
   "cell_type": "code",
   "execution_count": 67,
   "id": "927f275a",
   "metadata": {},
   "outputs": [
    {
     "data": {
      "text/plain": [
       "array([360, 120, 180,  60, 300, 480, 240,  36,  84])"
      ]
     },
     "execution_count": 67,
     "metadata": {},
     "output_type": "execute_result"
    }
   ],
   "source": [
    "data['Loan_Amount_Term'].unique() # due to one missing value everything has been given as a float   \n",
    "# whenever there is missing value in the numerical data the data type consider as the float \n",
    "# now it is converted to int"
   ]
  },
  {
   "cell_type": "markdown",
   "id": "13d6d5e2",
   "metadata": {},
   "source": [
    "__outliers treatment__"
   ]
  },
  {
   "cell_type": "code",
   "execution_count": 68,
   "id": "3bdb6470",
   "metadata": {},
   "outputs": [],
   "source": [
    "# outliers should be retrained (because really some people will have high income)"
   ]
  },
  {
   "cell_type": "markdown",
   "id": "2a1a3e07",
   "metadata": {},
   "source": [
    "__Encoding__"
   ]
  },
  {
   "cell_type": "code",
   "execution_count": 69,
   "id": "2f5e0880",
   "metadata": {},
   "outputs": [],
   "source": [
    "data[\"Gender\"] = data[\"Gender\"].replace({'Male':1,'Female':0})\n",
    "data[\"Married\"] = data[\"Married\"].replace({'Yes':1,'No':0})\n",
    "data[\"Education\"] = data[\"Education\"].replace({'Graduate':1,'Not Graduate':0})\n",
    "data[\"Self_Employed\"] = data[\"Self_Employed\"].replace({'Yes':1,'No':0})\n",
    "data[\"Credit_History\"] = data[\"Credit_History\"].replace({'good':1,'bad':0})\n",
    "data[\"Property_Area\"] = data[\"Property_Area\"].replace({'Rural':0,'Semiurban':1,'Urban':2})\n",
    "data[\"Loan_Status\"] = data[\"Loan_Status\"].replace({'Y':1,'N':0})\n",
    "\n",
    "data[\"Loan_Amount_Term\"] = data[\"Loan_Amount_Term\"]/12  # converted months  to years"
   ]
  },
  {
   "cell_type": "code",
   "execution_count": 70,
   "id": "e2980984",
   "metadata": {},
   "outputs": [],
   "source": [
    "# so here most important part is Encoding \n",
    "# the Encoding is done on the Categorical variables\n",
    "# discrete_categorical = [\"Gender\", \"Married\", \"Education\", \"Self_Employed\", \"Credit_History\", \"Property_Area\", \"Loan_Status\"]\n",
    "# out of which \"Loan_Status\" is output variable"
   ]
  },
  {
   "cell_type": "code",
   "execution_count": 71,
   "id": "e8ed996c",
   "metadata": {},
   "outputs": [],
   "source": [
    "# These have [\"Gender\", \"Married\", \"Education\", \"Self_Employed\", \"Credit_History\", \"Loan_Status\"] two categories\n",
    "# if you apply Label Encoder , Dummy Encoder , Odinal Encoder answer remain same no difference\n",
    "\n",
    "# all of them are have two categories but property_area has three categories\n",
    "\n",
    "# but [\"Property_Area\"] has three categories\n",
    "# now here Dummy Encoding, Label Encoding, Odinal Encoding will be different because \n",
    "# if you apply dummies you get two new columns \n",
    "# but if you apply LabelEncoder or OdinalEncoder , answer remain same no difference, only one column as it is \n",
    "# but dummy Encoder will create two new columns "
   ]
  },
  {
   "cell_type": "code",
   "execution_count": 72,
   "id": "455b799f",
   "metadata": {},
   "outputs": [],
   "source": [
    "# now whether i have to apply Dummy Encoding or whether i have apply the Odinal Encoding?\n",
    "# in [\"Property_Area\"] three categories are there ->  Rural, Semiurban, Urban \n",
    "# can we apply > < symol ex:  Rural < Semiurban < Urban \n",
    "# generally we think everything are same in Nominal Encoding but no they are not same (for personal loan it consider as nominal)\n",
    "# but because it is a Housing Loan , where the property is located ,the cost of the property is dependent on location wise \n",
    "# so Rural < Semiurban < Urban they are consider as odinal variable \n",
    "# here business problem is important \n",
    "# for this business problem it is Odinal but if it is a Personal Loan then it is Nominal in that case we apply the dummy encoding\n",
    "# but here we apply the Odinal Encoding "
   ]
  },
  {
   "cell_type": "markdown",
   "id": "3a8e1a69",
   "metadata": {},
   "source": [
    "__transformations__"
   ]
  },
  {
   "cell_type": "code",
   "execution_count": 73,
   "id": "d8863ddc",
   "metadata": {},
   "outputs": [
    {
     "data": {
      "text/plain": [
       "Income        5.777628\n",
       "LoanAmount    2.607945\n",
       "dtype: float64"
      ]
     },
     "execution_count": 73,
     "metadata": {},
     "output_type": "execute_result"
    }
   ],
   "source": [
    "data[['Income','LoanAmount']].skew() # both are right skewed before transformations"
   ]
  },
  {
   "cell_type": "code",
   "execution_count": 74,
   "id": "f8578004",
   "metadata": {},
   "outputs": [],
   "source": [
    "from scipy.stats import boxcox\n",
    "data[\"Income\"],a = boxcox(data[\"Income\"])\n",
    "data[\"LoanAmount\"],c = boxcox(data[\"LoanAmount\"])"
   ]
  },
  {
   "cell_type": "code",
   "execution_count": 75,
   "id": "23fb22d1",
   "metadata": {},
   "outputs": [
    {
     "data": {
      "text/plain": [
       "Income       -0.027769\n",
       "LoanAmount    0.038289\n",
       "dtype: float64"
      ]
     },
     "execution_count": 75,
     "metadata": {},
     "output_type": "execute_result"
    }
   ],
   "source": [
    "data[['Income','LoanAmount']].skew() # now both the skewness have brought to Normal Distribution after apply the boxcox"
   ]
  },
  {
   "cell_type": "code",
   "execution_count": 76,
   "id": "0279a6df",
   "metadata": {},
   "outputs": [],
   "source": [
    "# so till here our step 3 Data Preprocessing have been completed with these :\n",
    "# Dependents we replace \n",
    "# Missing value we have fill\n",
    "# data type conversion \n",
    "# Encoding\n",
    "# Transform the data \n",
    "# so this is the order in data preprocessing \n",
    "# for the future data also we have to do same data preprocessing then you have giveit to the model otherwise it give Error \n",
    "# Latest data only we have to share to the model \n",
    "# first we have to do the Data preprocessing then we share to the model. "
   ]
  },
  {
   "cell_type": "code",
   "execution_count": 77,
   "id": "022d1105",
   "metadata": {},
   "outputs": [
    {
     "data": {
      "text/html": [
       "<div>\n",
       "<style scoped>\n",
       "    .dataframe tbody tr th:only-of-type {\n",
       "        vertical-align: middle;\n",
       "    }\n",
       "\n",
       "    .dataframe tbody tr th {\n",
       "        vertical-align: top;\n",
       "    }\n",
       "\n",
       "    .dataframe thead th {\n",
       "        text-align: right;\n",
       "    }\n",
       "</style>\n",
       "<table border=\"1\" class=\"dataframe\">\n",
       "  <thead>\n",
       "    <tr style=\"text-align: right;\">\n",
       "      <th></th>\n",
       "      <th>Gender</th>\n",
       "      <th>Married</th>\n",
       "      <th>Dependents</th>\n",
       "      <th>Education</th>\n",
       "      <th>Self_Employed</th>\n",
       "      <th>LoanAmount</th>\n",
       "      <th>Loan_Amount_Term</th>\n",
       "      <th>Credit_History</th>\n",
       "      <th>Property_Area</th>\n",
       "      <th>Loan_Status</th>\n",
       "      <th>Income</th>\n",
       "    </tr>\n",
       "  </thead>\n",
       "  <tbody>\n",
       "    <tr>\n",
       "      <th>1</th>\n",
       "      <td>1</td>\n",
       "      <td>1</td>\n",
       "      <td>1</td>\n",
       "      <td>1</td>\n",
       "      <td>0</td>\n",
       "      <td>6.243267</td>\n",
       "      <td>30.0</td>\n",
       "      <td>1</td>\n",
       "      <td>0</td>\n",
       "      <td>0</td>\n",
       "      <td>1.864967</td>\n",
       "    </tr>\n",
       "    <tr>\n",
       "      <th>2</th>\n",
       "      <td>1</td>\n",
       "      <td>1</td>\n",
       "      <td>0</td>\n",
       "      <td>1</td>\n",
       "      <td>1</td>\n",
       "      <td>5.202610</td>\n",
       "      <td>30.0</td>\n",
       "      <td>1</td>\n",
       "      <td>2</td>\n",
       "      <td>1</td>\n",
       "      <td>1.856556</td>\n",
       "    </tr>\n",
       "    <tr>\n",
       "      <th>3</th>\n",
       "      <td>1</td>\n",
       "      <td>1</td>\n",
       "      <td>0</td>\n",
       "      <td>0</td>\n",
       "      <td>0</td>\n",
       "      <td>6.138816</td>\n",
       "      <td>30.0</td>\n",
       "      <td>1</td>\n",
       "      <td>2</td>\n",
       "      <td>1</td>\n",
       "      <td>1.862802</td>\n",
       "    </tr>\n",
       "    <tr>\n",
       "      <th>4</th>\n",
       "      <td>1</td>\n",
       "      <td>0</td>\n",
       "      <td>0</td>\n",
       "      <td>1</td>\n",
       "      <td>0</td>\n",
       "      <td>6.401083</td>\n",
       "      <td>30.0</td>\n",
       "      <td>1</td>\n",
       "      <td>2</td>\n",
       "      <td>1</td>\n",
       "      <td>1.864819</td>\n",
       "    </tr>\n",
       "    <tr>\n",
       "      <th>5</th>\n",
       "      <td>1</td>\n",
       "      <td>1</td>\n",
       "      <td>2</td>\n",
       "      <td>1</td>\n",
       "      <td>1</td>\n",
       "      <td>7.481930</td>\n",
       "      <td>30.0</td>\n",
       "      <td>1</td>\n",
       "      <td>2</td>\n",
       "      <td>1</td>\n",
       "      <td>1.868932</td>\n",
       "    </tr>\n",
       "    <tr>\n",
       "      <th>...</th>\n",
       "      <td>...</td>\n",
       "      <td>...</td>\n",
       "      <td>...</td>\n",
       "      <td>...</td>\n",
       "      <td>...</td>\n",
       "      <td>...</td>\n",
       "      <td>...</td>\n",
       "      <td>...</td>\n",
       "      <td>...</td>\n",
       "      <td>...</td>\n",
       "      <td>...</td>\n",
       "    </tr>\n",
       "    <tr>\n",
       "      <th>609</th>\n",
       "      <td>0</td>\n",
       "      <td>0</td>\n",
       "      <td>0</td>\n",
       "      <td>1</td>\n",
       "      <td>0</td>\n",
       "      <td>5.313992</td>\n",
       "      <td>30.0</td>\n",
       "      <td>1</td>\n",
       "      <td>0</td>\n",
       "      <td>1</td>\n",
       "      <td>1.856069</td>\n",
       "    </tr>\n",
       "    <tr>\n",
       "      <th>610</th>\n",
       "      <td>1</td>\n",
       "      <td>1</td>\n",
       "      <td>3</td>\n",
       "      <td>1</td>\n",
       "      <td>0</td>\n",
       "      <td>4.460305</td>\n",
       "      <td>15.0</td>\n",
       "      <td>1</td>\n",
       "      <td>0</td>\n",
       "      <td>1</td>\n",
       "      <td>1.860675</td>\n",
       "    </tr>\n",
       "    <tr>\n",
       "      <th>611</th>\n",
       "      <td>1</td>\n",
       "      <td>1</td>\n",
       "      <td>1</td>\n",
       "      <td>1</td>\n",
       "      <td>0</td>\n",
       "      <td>7.388070</td>\n",
       "      <td>30.0</td>\n",
       "      <td>1</td>\n",
       "      <td>2</td>\n",
       "      <td>1</td>\n",
       "      <td>1.867771</td>\n",
       "    </tr>\n",
       "    <tr>\n",
       "      <th>612</th>\n",
       "      <td>1</td>\n",
       "      <td>1</td>\n",
       "      <td>2</td>\n",
       "      <td>1</td>\n",
       "      <td>0</td>\n",
       "      <td>6.870558</td>\n",
       "      <td>30.0</td>\n",
       "      <td>1</td>\n",
       "      <td>2</td>\n",
       "      <td>1</td>\n",
       "      <td>1.866991</td>\n",
       "    </tr>\n",
       "    <tr>\n",
       "      <th>613</th>\n",
       "      <td>0</td>\n",
       "      <td>0</td>\n",
       "      <td>0</td>\n",
       "      <td>1</td>\n",
       "      <td>1</td>\n",
       "      <td>6.305602</td>\n",
       "      <td>30.0</td>\n",
       "      <td>0</td>\n",
       "      <td>1</td>\n",
       "      <td>0</td>\n",
       "      <td>1.861963</td>\n",
       "    </tr>\n",
       "  </tbody>\n",
       "</table>\n",
       "<p>529 rows × 11 columns</p>\n",
       "</div>"
      ],
      "text/plain": [
       "     Gender  Married  Dependents  Education  Self_Employed  LoanAmount  \\\n",
       "1         1        1           1          1              0    6.243267   \n",
       "2         1        1           0          1              1    5.202610   \n",
       "3         1        1           0          0              0    6.138816   \n",
       "4         1        0           0          1              0    6.401083   \n",
       "5         1        1           2          1              1    7.481930   \n",
       "..      ...      ...         ...        ...            ...         ...   \n",
       "609       0        0           0          1              0    5.313992   \n",
       "610       1        1           3          1              0    4.460305   \n",
       "611       1        1           1          1              0    7.388070   \n",
       "612       1        1           2          1              0    6.870558   \n",
       "613       0        0           0          1              1    6.305602   \n",
       "\n",
       "     Loan_Amount_Term  Credit_History  Property_Area  Loan_Status    Income  \n",
       "1                30.0               1              0            0  1.864967  \n",
       "2                30.0               1              2            1  1.856556  \n",
       "3                30.0               1              2            1  1.862802  \n",
       "4                30.0               1              2            1  1.864819  \n",
       "5                30.0               1              2            1  1.868932  \n",
       "..                ...             ...            ...          ...       ...  \n",
       "609              30.0               1              0            1  1.856069  \n",
       "610              15.0               1              0            1  1.860675  \n",
       "611              30.0               1              2            1  1.867771  \n",
       "612              30.0               1              2            1  1.866991  \n",
       "613              30.0               0              1            0  1.861963  \n",
       "\n",
       "[529 rows x 11 columns]"
      ]
     },
     "execution_count": 77,
     "metadata": {},
     "output_type": "execute_result"
    }
   ],
   "source": [
    "data"
   ]
  },
  {
   "cell_type": "code",
   "execution_count": 78,
   "id": "eb4f6ced",
   "metadata": {},
   "outputs": [],
   "source": [
    "# after applying the boxcox LoanAmount & Income has reduced\n",
    "# so that why we converted Loan_Amount_Term divided by 12 -> data[\"Loan_Amount_Term\"]/12 to reduced \n",
    "# because all of them are in the same range \n",
    "\n",
    "#if you not converted years ? nothing happens, no difference because it is a discrete_count_variable it will not have the impact\n",
    "# feature scaling should be applied only when the continous variable\n",
    "# one continous variable is having low magnitude and another continous variable is having the high magnitude \n",
    "# in that case only feature scaling \n",
    "# for feature scaling discrete variable is not applicable, even if you dont do also no problem"
   ]
  },
  {
   "cell_type": "markdown",
   "id": "beaecdfe",
   "metadata": {},
   "source": [
    "__X&y__"
   ]
  },
  {
   "cell_type": "code",
   "execution_count": 79,
   "id": "a4b0752c",
   "metadata": {},
   "outputs": [],
   "source": [
    "X = data.drop(\"Loan_Status\",axis=1)  # input # other than Loan_Status everything is input\n",
    "y = data[\"Loan_Status\"]             # output # Loan_Status is output"
   ]
  },
  {
   "cell_type": "markdown",
   "id": "fa1bae56",
   "metadata": {},
   "source": [
    "__train-test split__"
   ]
  },
  {
   "cell_type": "code",
   "execution_count": 80,
   "id": "b2591234",
   "metadata": {},
   "outputs": [],
   "source": [
    "from sklearn.model_selection import train_test_split\n",
    "X_train, X_test, y_train, y_test = train_test_split(X, y, test_size=0.2, random_state=70) "
   ]
  },
  {
   "cell_type": "code",
   "execution_count": 81,
   "id": "96056a63",
   "metadata": {},
   "outputs": [],
   "source": [
    "# so till here Step 3: Data Preprocessing also completed \n",
    "# so we do the complete Data Cleaning and complete Data Wrangling \n",
    "# for scaling: we not need to apply scaling because both the continous variables are on the same scale \n",
    "# we having only two continous variables that to both are on same Scale , so no need of future scaling in this case "
   ]
  },
  {
   "cell_type": "code",
   "execution_count": 82,
   "id": "82077ce2",
   "metadata": {},
   "outputs": [],
   "source": [
    "#How to identify the best random_state number ? apply the for loop, there is no GridSearchCV for identifying the best random state no."
   ]
  },
  {
   "cell_type": "code",
   "execution_count": null,
   "id": "53147330",
   "metadata": {},
   "outputs": [],
   "source": []
  },
  {
   "cell_type": "code",
   "execution_count": 83,
   "id": "ffb196e7",
   "metadata": {},
   "outputs": [],
   "source": [
    "# now applying the various algorithm and also evaluating each of them \n",
    "# and finally select which one is best  \n",
    "# since it is a binary classification algorithm so we apply following Algorithms "
   ]
  },
  {
   "cell_type": "markdown",
   "id": "d4d11f9e",
   "metadata": {},
   "source": [
    "# Step 4: Modelling & Evaluation"
   ]
  },
  {
   "cell_type": "code",
   "execution_count": 84,
   "id": "08f15629",
   "metadata": {},
   "outputs": [],
   "source": [
    "from sklearn.linear_model import LogisticRegression\n",
    "from sklearn.neighbors import KNeighborsClassifier\n",
    "from sklearn.svm import SVC\n",
    "from sklearn.tree import DecisionTreeClassifier\n",
    "from sklearn.ensemble import RandomForestClassifier\n",
    "from sklearn.ensemble import AdaBoostClassifier\n",
    "from sklearn.ensemble import GradientBoostingClassifier\n",
    "from xgboost import XGBClassifier\n",
    " \n",
    "from sklearn.model_selection import GridSearchCV\n",
    "\n",
    "from sklearn.metrics import accuracy_score\n",
    "from sklearn.model_selection import cross_val_score"
   ]
  },
  {
   "cell_type": "markdown",
   "id": "d9d82b6d",
   "metadata": {},
   "source": [
    "## 1. Logistic Regression"
   ]
  },
  {
   "cell_type": "code",
   "execution_count": 85,
   "id": "88b6f75a",
   "metadata": {},
   "outputs": [
    {
     "name": "stdout",
     "output_type": "stream",
     "text": [
      "Train Accuracy : 0.8226950354609929\n",
      "CV Score : 0.8227731092436976\n",
      "Test Accuracy : 0.7830188679245284\n"
     ]
    }
   ],
   "source": [
    "# Modelling\n",
    "from sklearn.linear_model import LogisticRegression\n",
    "log_model = LogisticRegression()\n",
    "log_model.fit(X_train,y_train)\n",
    "\n",
    "# Evaluation\n",
    "ypred_train = log_model.predict(X_train)\n",
    "ypred_test = log_model.predict(X_test)\n",
    "\n",
    "print(\"Train Accuracy :\",accuracy_score(y_train,ypred_train))\n",
    "print(\"CV Score :\",cross_val_score(log_model,X_train,y_train,cv=5,scoring='accuracy').mean())\n",
    "print(\"Test Accuracy :\",accuracy_score(y_test,ypred_test))"
   ]
  },
  {
   "cell_type": "code",
   "execution_count": 86,
   "id": "21407a80",
   "metadata": {},
   "outputs": [],
   "source": [
    "# so it is a good model not the best model "
   ]
  },
  {
   "cell_type": "markdown",
   "id": "6b2642b3",
   "metadata": {},
   "source": [
    "## 2. KNN\n",
    "\n",
    "- HPT\n",
    "- Modelling & Evaluation"
   ]
  },
  {
   "cell_type": "code",
   "execution_count": 87,
   "id": "07b8f3ba",
   "metadata": {},
   "outputs": [],
   "source": [
    "# for KNN we have to do the Hyperparameter Tuning because we not know what is the number of n_neighbors"
   ]
  },
  {
   "cell_type": "code",
   "execution_count": 88,
   "id": "c0a84009",
   "metadata": {},
   "outputs": [],
   "source": [
    "# In KNN hyperparameter are n_neighbors"
   ]
  },
  {
   "cell_type": "code",
   "execution_count": 89,
   "id": "4d1c3f76",
   "metadata": {},
   "outputs": [
    {
     "data": {
      "text/plain": [
       "KNeighborsClassifier(n_neighbors=13)"
      ]
     },
     "execution_count": 89,
     "metadata": {},
     "output_type": "execute_result"
    }
   ],
   "source": [
    "# Hyperparameter tuning\n",
    "estimator = KNeighborsClassifier()\n",
    "param_grid = {'n_neighbors': list(range(1,50))}\n",
    "\n",
    "from sklearn.model_selection import GridSearchCV\n",
    "knn_grid = GridSearchCV(estimator,param_grid,scoring='accuracy',cv=5)\n",
    "knn_grid.fit(X_train,y_train)\n",
    "\n",
    "knn_grid.best_estimator_"
   ]
  },
  {
   "cell_type": "code",
   "execution_count": 90,
   "id": "663dac45",
   "metadata": {},
   "outputs": [],
   "source": [
    "# so n_neighbors=14 is the best hyperparameter "
   ]
  },
  {
   "cell_type": "code",
   "execution_count": 91,
   "id": "5ff80635",
   "metadata": {},
   "outputs": [
    {
     "name": "stdout",
     "output_type": "stream",
     "text": [
      "Train Accuracy : 0.7659574468085106\n",
      "CV Score : 0.7375630252100841\n",
      "Test Accuracy : 0.7264150943396226\n"
     ]
    }
   ],
   "source": [
    "# Modelling\n",
    "from sklearn.neighbors import KNeighborsClassifier\n",
    "knn_model = KNeighborsClassifier(n_neighbors=14)\n",
    "knn_model.fit(X_train,y_train)\n",
    "\n",
    "# Evaluation\n",
    "ypred_train = knn_model.predict(X_train)\n",
    "ypred_test = knn_model.predict(X_test)\n",
    "\n",
    "print(\"Train Accuracy :\",accuracy_score(y_train,ypred_train))\n",
    "print(\"CV Score :\",cross_val_score(knn_model,X_train,y_train,cv=5,scoring='accuracy').mean())\n",
    "print(\"Test Accuracy :\",accuracy_score(y_test,ypred_test))"
   ]
  },
  {
   "cell_type": "markdown",
   "id": "6a6525f1",
   "metadata": {},
   "source": [
    "## 3. Support Vector Machine (SVM)\n",
    "- HPT\n",
    "- Modelling & Evaluation"
   ]
  },
  {
   "cell_type": "code",
   "execution_count": 92,
   "id": "eaae351f",
   "metadata": {},
   "outputs": [],
   "source": [
    "# for support vetor machine hyperparameters are C and Kernals"
   ]
  },
  {
   "cell_type": "code",
   "execution_count": 93,
   "id": "6e86e460",
   "metadata": {},
   "outputs": [
    {
     "data": {
      "text/plain": [
       "SVC(C=0.1, kernel='linear')"
      ]
     },
     "execution_count": 93,
     "metadata": {},
     "output_type": "execute_result"
    }
   ],
   "source": [
    "# Hyperparameter tuning \n",
    "estimator = SVC()\n",
    "param_grid = {'C':[0.01,0.1,1],'kernel':['linear','rbf','sigmoid','poly']}\n",
    "svm_grid = GridSearchCV(estimator, param_grid,scoring='accuracy',cv=5)\n",
    "svm_grid.fit(X_train,y_train)\n",
    "svm_grid.best_estimator_"
   ]
  },
  {
   "cell_type": "code",
   "execution_count": 94,
   "id": "c5ddf969",
   "metadata": {},
   "outputs": [
    {
     "name": "stdout",
     "output_type": "stream",
     "text": [
      "Train Accuracy : 0.8226950354609929\n",
      "CV Score : 0.8227731092436976\n",
      "Test Accuracy : 0.7830188679245284\n"
     ]
    }
   ],
   "source": [
    "# Modelling \n",
    "from sklearn.svm import SVC\n",
    "svm_model = SVC(C=0.1, kernel='linear')\n",
    "svm_model.fit(X_train,y_train)\n",
    "\n",
    "# Evaluation\n",
    "ypred_train = svm_model.predict(X_train)\n",
    "print(\"Train Accuracy :\",accuracy_score(y_train,ypred_train))\n",
    "print(\"CV Score :\",cross_val_score(svm_model,X_train,y_train,cv=5,scoring='accuracy').mean())\n",
    "\n",
    "ypred_test = svm_model.predict(X_test)\n",
    "print(\"Test Accuracy :\",accuracy_score(y_test,ypred_test))"
   ]
  },
  {
   "cell_type": "markdown",
   "id": "6676dcc8",
   "metadata": {},
   "source": [
    "## 4. Decision Tree Classifier\n",
    "- HPT\n",
    "- Identify important features by using feature selection (ensemble method)\n",
    "- Modelling & Evaluation "
   ]
  },
  {
   "cell_type": "code",
   "execution_count": 95,
   "id": "da346df1",
   "metadata": {},
   "outputs": [],
   "source": [
    "# for decision tree classifier we have to do Hyperparameter Tuning means we have to apply the max_depth \n",
    "# what is the max_depth we have to consider means? first we have to create the initial plot -> by considering the max_depth = None\n",
    "# we have to observe the initial tree then we understand what is the max_depth we can get \n",
    "# based on that we done the Hyperparameter Tuning"
   ]
  },
  {
   "cell_type": "code",
   "execution_count": 96,
   "id": "64f3c289",
   "metadata": {},
   "outputs": [],
   "source": [
    "# so first we take the default model \n",
    "# where we are going to take the max_depth = None \n",
    "# so default model first it applied and we observe the depth  , what is the depth "
   ]
  },
  {
   "cell_type": "code",
   "execution_count": 97,
   "id": "749289aa",
   "metadata": {},
   "outputs": [
    {
     "data": {
      "image/png": "[encoded data removed]",
      "text/plain": [
       "<Figure size 1800x800 with 1 Axes>"
      ]
     },
     "metadata": {},
     "output_type": "display_data"
    }
   ],
   "source": [
    "from sklearn.tree import DecisionTreeClassifier\n",
    "model = DecisionTreeClassifier(random_state=True) \n",
    "model.fit(X_train,y_train)\n",
    "\n",
    "from sklearn.tree import plot_tree\n",
    "plot_tree(model)\n",
    "plt.show()"
   ]
  },
  {
   "cell_type": "code",
   "execution_count": 98,
   "id": "100d64db",
   "metadata": {},
   "outputs": [],
   "source": [
    "# so we observed 16 depth\n",
    "# max_depth = 16 "
   ]
  },
  {
   "cell_type": "code",
   "execution_count": 99,
   "id": "651e4517",
   "metadata": {},
   "outputs": [],
   "source": [
    "# In Decision tree hyperparameters are max_depth, criterion['gini','entropy']"
   ]
  },
  {
   "cell_type": "code",
   "execution_count": 100,
   "id": "01e96aaa",
   "metadata": {},
   "outputs": [
    {
     "data": {
      "text/plain": [
       "DecisionTreeClassifier(max_depth=1, random_state=True)"
      ]
     },
     "execution_count": 100,
     "metadata": {},
     "output_type": "execute_result"
    }
   ],
   "source": [
    "# Hyperparameter tuning\n",
    "estimator = DecisionTreeClassifier(random_state=True)\n",
    "param_grid = {\"criterion\":[\"gini\",\"entropy\"],\n",
    "             \"max_depth\":list(range(1,16))} # max_depth = 16 # so we check till 16 , it is the maximum number \n",
    "dt_grid = GridSearchCV(estimator,param_grid,scoring='accuracy',cv=5)\n",
    "dt_grid.fit(X_train,y_train)\n",
    "\n",
    "dt = dt_grid.best_estimator_\n",
    "dt"
   ]
  },
  {
   "cell_type": "code",
   "execution_count": 101,
   "id": "690506b8",
   "metadata": {},
   "outputs": [
    {
     "data": {
      "text/plain": [
       "array([0., 0., 0., 0., 0., 0., 0., 1., 0., 0.])"
      ]
     },
     "execution_count": 101,
     "metadata": {},
     "output_type": "execute_result"
    }
   ],
   "source": [
    "dt.feature_importances_"
   ]
  },
  {
   "cell_type": "code",
   "execution_count": 102,
   "id": "99c01919",
   "metadata": {},
   "outputs": [
    {
     "data": {
      "text/plain": [
       "['Credit_History']"
      ]
     },
     "execution_count": 102,
     "metadata": {},
     "output_type": "execute_result"
    }
   ],
   "source": [
    "# Important features\n",
    "feats_ab = pd.DataFrame(data=dt.feature_importances_,\n",
    "            index=X.columns,\n",
    "            columns=['Importance'])\n",
    "important_features_dt = feats_ab[feats_ab[\"Importance\"]>0].index.tolist()\n",
    "important_features_dt"
   ]
  },
  {
   "cell_type": "code",
   "execution_count": 103,
   "id": "09370872",
   "metadata": {},
   "outputs": [],
   "source": [
    "# so it is going to give me only one column called as credit history "
   ]
  },
  {
   "cell_type": "code",
   "execution_count": 104,
   "id": "5f883079",
   "metadata": {},
   "outputs": [],
   "source": [
    "# from the dt what we have to do ? \n",
    "# first we have to do hyperparmeter tuning \n",
    "# best hyperparameters\n",
    "# best features \n",
    "# and using the best hyperparameters and best features we have to create the model "
   ]
  },
  {
   "cell_type": "markdown",
   "id": "a62d68cb",
   "metadata": {},
   "source": [
    "__Creating Decision Tree Model with important parameters and important features__"
   ]
  },
  {
   "cell_type": "code",
   "execution_count": 105,
   "id": "9edb33ed",
   "metadata": {},
   "outputs": [
    {
     "name": "stdout",
     "output_type": "stream",
     "text": [
      "Train Accuracy : 0.8226950354609929\n",
      "CV Score : 0.8227731092436976\n",
      "Test Accuracy : 0.7830188679245284\n"
     ]
    }
   ],
   "source": [
    "# Selecting train & test data \n",
    "X_train_dt = X_train[important_features_dt]\n",
    "X_test_dt = X_test[important_features_dt]\n",
    "\n",
    "# Modelling\n",
    "dt.fit(X_train_dt,y_train) # the model is fitted only on the one column credit_history \n",
    "\n",
    "# Evaluation\n",
    "ypred_train = dt.predict(X_train_dt)\n",
    "ypred_test = dt.predict(X_test_dt)\n",
    "\n",
    "print(\"Train Accuracy :\",accuracy_score(y_train,ypred_train))\n",
    "print(\"CV Score :\",cross_val_score(dt,X_train_dt,y_train,cv=5,scoring='accuracy').mean())\n",
    "print(\"Test Accuracy :\",accuracy_score(y_test,ypred_test))"
   ]
  },
  {
   "cell_type": "markdown",
   "id": "0e4faa21",
   "metadata": {},
   "source": [
    "## 5. Random Forest Classifier\n",
    "- HPT\n",
    "- identify important features\n",
    "- Modelling\n",
    "- Evaluation"
   ]
  },
  {
   "cell_type": "code",
   "execution_count": 106,
   "id": "892932fa",
   "metadata": {},
   "outputs": [],
   "source": [
    "# for random forest also same ,using the  best hyperparameters , best features build the model "
   ]
  },
  {
   "cell_type": "code",
   "execution_count": 107,
   "id": "e18cf8a0",
   "metadata": {},
   "outputs": [],
   "source": [
    "# In RandomForest hyperparameter are n_estimators"
   ]
  },
  {
   "cell_type": "code",
   "execution_count": 108,
   "id": "dbd426e4",
   "metadata": {},
   "outputs": [
    {
     "data": {
      "text/plain": [
       "RandomForestClassifier(n_estimators=21, random_state=True)"
      ]
     },
     "execution_count": 108,
     "metadata": {},
     "output_type": "execute_result"
    }
   ],
   "source": [
    "# Hyper parameter tuning \n",
    "estimator = RandomForestClassifier(random_state=True)\n",
    "param_grid = {'n_estimators':list(range(1,51))}\n",
    "rf_grid = GridSearchCV(estimator,param_grid,scoring=\"accuracy\",cv=5)\n",
    "rf_grid.fit(X_train,y_train)\n",
    "\n",
    "rf = rf_grid.best_estimator_\n",
    "rf"
   ]
  },
  {
   "cell_type": "code",
   "execution_count": 109,
   "id": "213cde61",
   "metadata": {},
   "outputs": [
    {
     "data": {
      "text/plain": [
       "['Gender',\n",
       " 'Married',\n",
       " 'Dependents',\n",
       " 'Education',\n",
       " 'Self_Employed',\n",
       " 'LoanAmount',\n",
       " 'Loan_Amount_Term',\n",
       " 'Credit_History',\n",
       " 'Property_Area',\n",
       " 'Income']"
      ]
     },
     "execution_count": 109,
     "metadata": {},
     "output_type": "execute_result"
    }
   ],
   "source": [
    "# Important features\n",
    "feats_ab = pd.DataFrame(data=rf.feature_importances_,\n",
    "            index=X.columns,\n",
    "            columns=['Importance'])\n",
    "\n",
    "importance_features_rf = feats_ab[feats_ab[\"Importance\"]>0].index.tolist()\n",
    "importance_features_rf"
   ]
  },
  {
   "cell_type": "markdown",
   "id": "a787ad49",
   "metadata": {},
   "source": [
    "__Creating Random Forest Model with important parameters and important features__"
   ]
  },
  {
   "cell_type": "code",
   "execution_count": 110,
   "id": "0730f97b",
   "metadata": {},
   "outputs": [
    {
     "name": "stdout",
     "output_type": "stream",
     "text": [
      "Train Accuracy : 0.9952718676122931\n",
      "CV Score : 0.8203641456582634\n",
      "Test Accuracy : 0.7735849056603774\n"
     ]
    }
   ],
   "source": [
    "X_train_rf = X_train[importance_features_rf]\n",
    "X_test_rf = X_test[importance_features_rf]\n",
    "\n",
    "# Modelling\n",
    "rf.fit(X_train_rf,y_train)\n",
    "\n",
    "# Evaluation \n",
    "ypred_train = rf.predict(X_train_rf)\n",
    "ypred_test = rf.predict(X_test_rf)\n",
    "\n",
    "print(\"Train Accuracy :\",accuracy_score(y_train,ypred_train))\n",
    "print(\"CV Score :\",cross_val_score(rf, X_train_rf, y_train, cv=5, scoring='accuracy').mean())\n",
    "print(\"Test Accuracy :\",accuracy_score(y_test,ypred_test))"
   ]
  },
  {
   "cell_type": "markdown",
   "id": "c5445712",
   "metadata": {},
   "source": [
    "## 6. AdaBoost Classifier"
   ]
  },
  {
   "cell_type": "code",
   "execution_count": 111,
   "id": "7a5f7b5c",
   "metadata": {},
   "outputs": [],
   "source": [
    "# In AdaBoost hyperparameter are n_estimators"
   ]
  },
  {
   "cell_type": "code",
   "execution_count": 112,
   "id": "072f64f1",
   "metadata": {},
   "outputs": [
    {
     "data": {
      "text/plain": [
       "AdaBoostClassifier(n_estimators=3, random_state=True)"
      ]
     },
     "execution_count": 112,
     "metadata": {},
     "output_type": "execute_result"
    }
   ],
   "source": [
    "# Hyper parameter tuning \n",
    "estimator = AdaBoostClassifier(random_state=True)\n",
    "param_grid = {'n_estimators':list(range(1,51))}\n",
    "\n",
    "ab_grid = GridSearchCV(estimator,param_grid,scoring=\"accuracy\",cv=5)\n",
    "ab_grid.fit(X_train,y_train)\n",
    "\n",
    "ab = ab_grid.best_estimator_\n",
    "ab"
   ]
  },
  {
   "cell_type": "code",
   "execution_count": 113,
   "id": "6005a8cf",
   "metadata": {},
   "outputs": [
    {
     "data": {
      "text/plain": [
       "['Credit_History', 'Property_Area', 'Income']"
      ]
     },
     "execution_count": 113,
     "metadata": {},
     "output_type": "execute_result"
    }
   ],
   "source": [
    "# Important features\n",
    "feats_ab = pd.DataFrame(data=ab.feature_importances_,\n",
    "            index=X.columns,\n",
    "            columns=['Importance'])\n",
    "\n",
    "importance_features_ab = feats_ab[feats_ab[\"Importance\"]>0].index.tolist()\n",
    "importance_features_ab"
   ]
  },
  {
   "cell_type": "markdown",
   "id": "91ed60ac",
   "metadata": {},
   "source": [
    "__Creating AdaBoost Model with important parameters and important features__"
   ]
  },
  {
   "cell_type": "code",
   "execution_count": 114,
   "id": "890bb047",
   "metadata": {},
   "outputs": [
    {
     "name": "stdout",
     "output_type": "stream",
     "text": [
      "Train Accuracy : 0.83451536643026\n",
      "CV Score : 0.8298879551820729\n",
      "Test Accuracy : 0.7641509433962265\n"
     ]
    }
   ],
   "source": [
    "X_train_ab = X_train[importance_features_ab]\n",
    "X_test_ab = X_test[importance_features_ab]\n",
    "\n",
    "# Modelling\n",
    "ab.fit(X_train_ab,y_train)\n",
    "\n",
    "# Evaluation \n",
    "ypred_train = ab.predict(X_train_ab)\n",
    "ypred_test = ab.predict(X_test_ab)\n",
    "\n",
    "print(\"Train Accuracy :\",accuracy_score(y_train,ypred_train))\n",
    "print(\"CV Score :\",cross_val_score(ab, X_train_ab, y_train, cv=5, scoring='accuracy').mean())\n",
    "print(\"Test Accuracy :\",accuracy_score(y_test,ypred_test))"
   ]
  },
  {
   "cell_type": "markdown",
   "id": "3e6fd5b5",
   "metadata": {},
   "source": [
    "## 7. Gradient Boost Classifier"
   ]
  },
  {
   "cell_type": "code",
   "execution_count": 115,
   "id": "2d2871bb",
   "metadata": {},
   "outputs": [],
   "source": [
    "# In Gradient Boost hyperparameter are n_estimators and learning_rate"
   ]
  },
  {
   "cell_type": "code",
   "execution_count": 116,
   "id": "16693172",
   "metadata": {},
   "outputs": [
    {
     "data": {
      "text/plain": [
       "GradientBoostingClassifier(learning_rate=0.6, n_estimators=7, random_state=True)"
      ]
     },
     "execution_count": 116,
     "metadata": {},
     "output_type": "execute_result"
    }
   ],
   "source": [
    "# Hyper parameter tuning \n",
    "estimator = GradientBoostingClassifier(random_state=True)\n",
    "param_grid = {'n_estimators':list(range(1,10)),\n",
    "             \"learning_rate\":[0.1,0.2,0.3,0.4,0.5,0.6,0.7,0.8,0.9,1.0]}\n",
    "\n",
    "gb_grid = GridSearchCV(estimator,param_grid,scoring=\"accuracy\",cv=5)\n",
    "gb_grid.fit(X_train,y_train)\n",
    "\n",
    "gb = gb_grid.best_estimator_\n",
    "gb"
   ]
  },
  {
   "cell_type": "code",
   "execution_count": 117,
   "id": "e51e120c",
   "metadata": {},
   "outputs": [
    {
     "data": {
      "text/plain": [
       "['Gender',\n",
       " 'Married',\n",
       " 'Self_Employed',\n",
       " 'LoanAmount',\n",
       " 'Loan_Amount_Term',\n",
       " 'Credit_History',\n",
       " 'Property_Area',\n",
       " 'Income']"
      ]
     },
     "execution_count": 117,
     "metadata": {},
     "output_type": "execute_result"
    }
   ],
   "source": [
    "# Important features\n",
    "feats_gb = pd.DataFrame(data=gb.feature_importances_,\n",
    "            index=X.columns,\n",
    "            columns=['Importance'])\n",
    "\n",
    "importance_features_gb = feats_gb[feats_gb[\"Importance\"]>0].index.tolist()\n",
    "importance_features_gb"
   ]
  },
  {
   "cell_type": "markdown",
   "id": "1aee416d",
   "metadata": {},
   "source": [
    "__Creating Gradient Boost Model with important parameters and important features__"
   ]
  },
  {
   "cell_type": "code",
   "execution_count": 118,
   "id": "c477b643",
   "metadata": {},
   "outputs": [
    {
     "name": "stdout",
     "output_type": "stream",
     "text": [
      "Train Accuracy : 0.8747044917257684\n",
      "CV Score : 0.8228011204481793\n",
      "Test Accuracy : 0.7358490566037735\n"
     ]
    }
   ],
   "source": [
    "X_train_gb = X_train[importance_features_gb]\n",
    "X_test_gb = X_test[importance_features_gb]\n",
    "\n",
    "# Modelling\n",
    "gb.fit(X_train_gb,y_train)\n",
    "\n",
    "# Evaluation \n",
    "ypred_train = gb.predict(X_train_gb)\n",
    "ypred_test = gb.predict(X_test_gb)\n",
    "\n",
    "print(\"Train Accuracy :\",accuracy_score(y_train,ypred_train))\n",
    "print(\"CV Score :\",cross_val_score(gb, X_train_gb, y_train, cv=5, scoring='accuracy').mean())\n",
    "print(\"Test Accuracy :\",accuracy_score(y_test,ypred_test))"
   ]
  },
  {
   "cell_type": "markdown",
   "id": "318f7dfc",
   "metadata": {},
   "source": [
    "## 8. XGBoost Classifier"
   ]
  },
  {
   "cell_type": "code",
   "execution_count": 119,
   "id": "9a00ea95",
   "metadata": {},
   "outputs": [],
   "source": [
    "# In XGBoost hyperparameter are n_estimators , max_depth , gamma"
   ]
  },
  {
   "cell_type": "code",
   "execution_count": 120,
   "id": "baeb1d9f",
   "metadata": {},
   "outputs": [
    {
     "data": {
      "text/plain": [
       "XGBClassifier(base_score=None, booster=None, callbacks=None,\n",
       "              colsample_bylevel=None, colsample_bynode=None,\n",
       "              colsample_bytree=None, device=None, early_stopping_rounds=None,\n",
       "              enable_categorical=False, eval_metric=None, feature_types=None,\n",
       "              gamma=0.3, grow_policy=None, importance_type=None,\n",
       "              interaction_constraints=None, learning_rate=None, max_bin=None,\n",
       "              max_cat_threshold=None, max_cat_to_onehot=None,\n",
       "              max_delta_step=None, max_depth=4, max_leaves=None,\n",
       "              min_child_weight=None, missing=nan, monotone_constraints=None,\n",
       "              multi_strategy=None, n_estimators=10, n_jobs=None,\n",
       "              num_parallel_tree=None, random_state=None, ...)"
      ]
     },
     "execution_count": 120,
     "metadata": {},
     "output_type": "execute_result"
    }
   ],
   "source": [
    "# Hyper parameter tuning \n",
    "estimator = XGBClassifier()\n",
    "\n",
    "param_grid = {'n_estimators':[10,20,40,100],\n",
    "             \"max_depth\":[3,4,5],\n",
    "             \"gamma\":[0,0.15,0.3,0.5,1]}\n",
    "\n",
    "xgb_grid = GridSearchCV(estimator,param_grid,scoring=\"accuracy\",cv=5)\n",
    "xgb_grid.fit(X_train,y_train)\n",
    "\n",
    "xgb = xgb_grid.best_estimator_\n",
    "xgb"
   ]
  },
  {
   "cell_type": "code",
   "execution_count": 121,
   "id": "6652c80e",
   "metadata": {},
   "outputs": [
    {
     "data": {
      "text/plain": [
       "['Dependents',\n",
       " 'Self_Employed',\n",
       " 'LoanAmount',\n",
       " 'Loan_Amount_Term',\n",
       " 'Credit_History',\n",
       " 'Property_Area',\n",
       " 'Income']"
      ]
     },
     "execution_count": 121,
     "metadata": {},
     "output_type": "execute_result"
    }
   ],
   "source": [
    "# Important features\n",
    "feats_xgb = pd.DataFrame(data=xgb.feature_importances_,\n",
    "            index=X.columns,\n",
    "            columns=['Importance'])\n",
    "\n",
    "importance_features_xgb = feats_xgb[feats_xgb[\"Importance\"]>0].index.tolist()\n",
    "importance_features_xgb"
   ]
  },
  {
   "cell_type": "markdown",
   "id": "f7712a0f",
   "metadata": {},
   "source": [
    "__Creating XG Boost Model with important parameters and important features__"
   ]
  },
  {
   "cell_type": "code",
   "execution_count": 122,
   "id": "c936d051",
   "metadata": {},
   "outputs": [
    {
     "name": "stdout",
     "output_type": "stream",
     "text": [
      "Train Accuracy : 0.8557919621749409\n",
      "CV Score : 0.8275070028011206\n",
      "Test Accuracy : 0.7735849056603774\n"
     ]
    }
   ],
   "source": [
    "X_train_xgb = X_train[importance_features_xgb]\n",
    "X_test_xgb = X_test[importance_features_xgb]\n",
    "\n",
    "# Modelling\n",
    "xgb.fit(X_train_xgb,y_train)\n",
    "\n",
    "# Evaluation \n",
    "ypred_train = xgb.predict(X_train_xgb)\n",
    "ypred_test = xgb.predict(X_test_xgb)\n",
    "\n",
    "print(\"Train Accuracy :\",accuracy_score(y_train,ypred_train))\n",
    "print(\"CV Score :\",cross_val_score(xgb, X_train_xgb, y_train, cv=5, scoring='accuracy').mean())\n",
    "print(\"Test Accuracy :\",accuracy_score(y_test,ypred_test))"
   ]
  },
  {
   "cell_type": "code",
   "execution_count": 123,
   "id": "52a41d5c",
   "metadata": {},
   "outputs": [],
   "source": [
    "# so to be more precise bagging and boosting is not good for this dataset, advance algorithm is not good for this dataset\n",
    "# rf, ab, gb, xgb are overfitted\n",
    "\n",
    "# rf : Train Accuracy : 0.9952718676122931 , CV Score : 0.8203641456582634 , Test Accuracy : 0.7735849056603774\n",
    "# ab : Train Accuracy : 0.83451536643026 , CV Score : 0.8298879551820729 , Test Accuracy : 0.7641509433962265\n",
    "# gb : Train Accuracy : 0.8747044917257684 , CV Score : 0.8228011204481793 , Test Accuracy : 0.7358490566037735\n",
    "# xgb : Train Accuracy : 0.8557919621749409 , CV Score : 0.8275070028011206 , Test Accuracy : 0.7735849056603774\n",
    "\n",
    "\n",
    "# so Logistic, KNN, SVM, decision tree within these 4 the best algorithm are there for this dataset \n",
    "# Logistic, KNN, SVM, decision tree are not overfitted\n",
    "\n",
    "# Logistic : Train Accuracy : 0.8226950354609929 , CV Score : 0.8227731092436976 , Test Accuracy : 0.7830188679245284\n",
    "# KNN : Train Accuracy : 0.7659574468085106 , CV Score : 0.7375630252100841 , Test Accuracy : 0.7264150943396226\n",
    "# SVM : Train Accuracy : 0.8226950354609929 , CV Score : 0.8227731092436976 , Test Accuracy : 0.7830188679245284\n",
    "# dt : Train Accuracy : 0.8226950354609929 , CV Score : 0.8227731092436976 , Test Accuracy : 0.7830188679245284\n",
    "\n",
    "# instead of KNN remaining 3 of them are almost same that is Logistic, SVM and dt (decision tree)\n",
    "\n",
    "# so now within the decision tree if we see the number of important features it has consider as ['Credit_History'] only 1 column\n",
    "# based on single column it has concluded \n",
    "# and we got best estimator max_depth = 1 , means in the first step only model was completed \n",
    "# so based on the credit history if the person have the good credit history means loan accepted and\n",
    "# if the person have bad bad credit history means loan rejected\n",
    "# simply based on the credit history we are going to select whether the person is eligible for the loan or not \n",
    "# so now all the algorithm logistic, SVM , Decision tree these three are having the test accuracy of 78% out of which \n",
    "# decision tree we choose with a max_depth = 1 , this is my final model selection \n",
    "# because it is just going to consider only a single column and based on that it simply predict , very fast \n",
    "# so compare to every algorithm my best algorithm is finally Decision Tree \n",
    "# so dt we save as a joblib file"
   ]
  },
  {
   "cell_type": "markdown",
   "id": "851c2b1e",
   "metadata": {},
   "source": [
    "# Presentation "
   ]
  },
  {
   "cell_type": "code",
   "execution_count": 124,
   "id": "66fd557d",
   "metadata": {},
   "outputs": [
    {
     "data": {
      "text/plain": [
       "['loan.joblib']"
      ]
     },
     "execution_count": 124,
     "metadata": {},
     "output_type": "execute_result"
    }
   ],
   "source": [
    "from joblib import dump\n",
    "\n",
    "dump(dt,'loan.joblib')"
   ]
  },
  {
   "cell_type": "code",
   "execution_count": 125,
   "id": "a8c00641",
   "metadata": {},
   "outputs": [],
   "source": [
    "# now for the future data \n",
    "input_data = {'Loan_ID':\"LP002991\",\n",
    "              'Gender':\"Male\",\n",
    "              'Married':'No',\n",
    "              'Dependents':1,\n",
    "              'Education':\"Graduate\",\n",
    "              'Self_Employed':'yes',\n",
    "              'ApplicantIncome':1000,\n",
    "              'CoapplicantIncome':0,\n",
    "              \n",
    "              'LoanAmount':100,\n",
    "              'Loan_Amount_Term':240,\n",
    "              'Credit_History':'good',\n",
    "              'Property_Area':'Urban'}"
   ]
  },
  {
   "cell_type": "code",
   "execution_count": 126,
   "id": "6489ffe2",
   "metadata": {},
   "outputs": [
    {
     "data": {
      "text/html": [
       "<div>\n",
       "<style scoped>\n",
       "    .dataframe tbody tr th:only-of-type {\n",
       "        vertical-align: middle;\n",
       "    }\n",
       "\n",
       "    .dataframe tbody tr th {\n",
       "        vertical-align: top;\n",
       "    }\n",
       "\n",
       "    .dataframe thead th {\n",
       "        text-align: right;\n",
       "    }\n",
       "</style>\n",
       "<table border=\"1\" class=\"dataframe\">\n",
       "  <thead>\n",
       "    <tr style=\"text-align: right;\">\n",
       "      <th></th>\n",
       "      <th>Loan_ID</th>\n",
       "      <th>Gender</th>\n",
       "      <th>Married</th>\n",
       "      <th>Dependents</th>\n",
       "      <th>Education</th>\n",
       "      <th>Self_Employed</th>\n",
       "      <th>ApplicantIncome</th>\n",
       "      <th>CoapplicantIncome</th>\n",
       "      <th>LoanAmount</th>\n",
       "      <th>Loan_Amount_Term</th>\n",
       "      <th>Credit_History</th>\n",
       "      <th>Property_Area</th>\n",
       "    </tr>\n",
       "  </thead>\n",
       "  <tbody>\n",
       "    <tr>\n",
       "      <th>0</th>\n",
       "      <td>LP002991</td>\n",
       "      <td>Male</td>\n",
       "      <td>No</td>\n",
       "      <td>1</td>\n",
       "      <td>Graduate</td>\n",
       "      <td>yes</td>\n",
       "      <td>1000</td>\n",
       "      <td>0</td>\n",
       "      <td>100</td>\n",
       "      <td>240</td>\n",
       "      <td>good</td>\n",
       "      <td>Urban</td>\n",
       "    </tr>\n",
       "  </tbody>\n",
       "</table>\n",
       "</div>"
      ],
      "text/plain": [
       "    Loan_ID Gender Married  Dependents Education Self_Employed  \\\n",
       "0  LP002991   Male      No           1  Graduate           yes   \n",
       "\n",
       "   ApplicantIncome  CoapplicantIncome  LoanAmount  Loan_Amount_Term  \\\n",
       "0             1000                  0         100               240   \n",
       "\n",
       "  Credit_History Property_Area  \n",
       "0           good         Urban  "
      ]
     },
     "execution_count": 126,
     "metadata": {},
     "output_type": "execute_result"
    }
   ],
   "source": [
    "data = pd.DataFrame(input_data,index=[0])\n",
    "data"
   ]
  },
  {
   "cell_type": "code",
   "execution_count": 127,
   "id": "315eef15",
   "metadata": {},
   "outputs": [],
   "source": [
    "# if you share this data directly to machine it will throw the error \n",
    "# so first we do the data preprocessing "
   ]
  },
  {
   "cell_type": "markdown",
   "id": "901c6aaf",
   "metadata": {},
   "source": [
    "__Apply Data preprocessing on Unknown Data__"
   ]
  },
  {
   "cell_type": "code",
   "execution_count": 128,
   "id": "8e9ed0fc",
   "metadata": {},
   "outputs": [],
   "source": [
    "# all the steps from data preprocesing we have copy \n",
    "data.drop(columns=[\"Loan_ID\"],inplace=True)\n",
    "data[\"Income\"] = data[\"ApplicantIncome\"] + data[\"CoapplicantIncome\"]   \n",
    "data.drop(columns=[\"ApplicantIncome\",\"CoapplicantIncome\"],inplace=True)\n",
    "\n",
    "data['Dependents'] = data['Dependents'].fillna(0)\n",
    "data['Gender'] = data['Gender'].fillna(data['Gender'].mode()[0])\n",
    "data['Married'] = data['Married'].fillna(data['Married'].mode()[0])\n",
    "data['Self_Employed'] = data['Self_Employed'].fillna(data['Self_Employed'].mode()[0])\n",
    "data = data.dropna(subset=['Income','LoanAmount','Loan_Amount_Term','Credit_History'])\n",
    "data[\"Dependents\"] = data[\"Dependents\"].astype('int') \n",
    "data['Loan_Amount_Term'] = data['Loan_Amount_Term'].astype('int') \n",
    "\n",
    "data[\"Gender\"] = data[\"Gender\"].replace({'Male':1,'Female':0})\n",
    "data[\"Married\"] = data[\"Married\"].replace({'Yes':1,'No':0})\n",
    "data[\"Education\"] = data[\"Education\"].replace({'Graduate':1,'Not Graduate':0})\n",
    "data[\"Self_Employed\"] = data[\"Self_Employed\"].replace({'Yes':1,'No':0})\n",
    "data[\"Credit_History\"] = data[\"Credit_History\"].replace({'good':1,'bad':0})\n",
    "data[\"Property_Area\"] = data[\"Property_Area\"].replace({'Rural':0,'Semiurban':1,'Urban':2})\n",
    "data[\"Loan_Amount_Term\"] = data[\"Loan_Amount_Term\"]/12\n",
    "\n",
    "X_new = data "
   ]
  },
  {
   "cell_type": "code",
   "execution_count": 129,
   "id": "5bf2de26",
   "metadata": {},
   "outputs": [
    {
     "data": {
      "text/html": [
       "<div>\n",
       "<style scoped>\n",
       "    .dataframe tbody tr th:only-of-type {\n",
       "        vertical-align: middle;\n",
       "    }\n",
       "\n",
       "    .dataframe tbody tr th {\n",
       "        vertical-align: top;\n",
       "    }\n",
       "\n",
       "    .dataframe thead th {\n",
       "        text-align: right;\n",
       "    }\n",
       "</style>\n",
       "<table border=\"1\" class=\"dataframe\">\n",
       "  <thead>\n",
       "    <tr style=\"text-align: right;\">\n",
       "      <th></th>\n",
       "      <th>Gender</th>\n",
       "      <th>Married</th>\n",
       "      <th>Dependents</th>\n",
       "      <th>Education</th>\n",
       "      <th>Self_Employed</th>\n",
       "      <th>LoanAmount</th>\n",
       "      <th>Loan_Amount_Term</th>\n",
       "      <th>Credit_History</th>\n",
       "      <th>Property_Area</th>\n",
       "      <th>Income</th>\n",
       "    </tr>\n",
       "  </thead>\n",
       "  <tbody>\n",
       "    <tr>\n",
       "      <th>0</th>\n",
       "      <td>1</td>\n",
       "      <td>0</td>\n",
       "      <td>1</td>\n",
       "      <td>1</td>\n",
       "      <td>yes</td>\n",
       "      <td>100</td>\n",
       "      <td>20.0</td>\n",
       "      <td>1</td>\n",
       "      <td>2</td>\n",
       "      <td>1000</td>\n",
       "    </tr>\n",
       "  </tbody>\n",
       "</table>\n",
       "</div>"
      ],
      "text/plain": [
       "   Gender  Married  Dependents  Education Self_Employed  LoanAmount  \\\n",
       "0       1        0           1          1           yes         100   \n",
       "\n",
       "   Loan_Amount_Term  Credit_History  Property_Area  Income  \n",
       "0              20.0               1              2    1000  "
      ]
     },
     "execution_count": 129,
     "metadata": {},
     "output_type": "execute_result"
    }
   ],
   "source": [
    "X_new # encoded data"
   ]
  },
  {
   "cell_type": "code",
   "execution_count": 130,
   "id": "cd499b42",
   "metadata": {},
   "outputs": [
    {
     "data": {
      "text/plain": [
       "array([1], dtype=int64)"
      ]
     },
     "execution_count": 130,
     "metadata": {},
     "output_type": "execute_result"
    }
   ],
   "source": [
    "# Select Important features of your best model\n",
    "X_new = X_new[['Credit_History']]\n",
    "\n",
    "# Apply & Predict using your best model \n",
    "dt.predict(X_new)"
   ]
  },
  {
   "cell_type": "code",
   "execution_count": 131,
   "id": "f82d2a00",
   "metadata": {},
   "outputs": [],
   "source": [
    "# so here it is eligible for loan because the Credit_History = 1 , good credit history "
   ]
  },
  {
   "cell_type": "code",
   "execution_count": 132,
   "id": "9bbd7c2c",
   "metadata": {},
   "outputs": [],
   "source": [
    "# if the person is having a bad credit history he is not eligible for the loan \n",
    "# if the person is having a good credit history he is eligible for the loan"
   ]
  },
  {
   "cell_type": "code",
   "execution_count": 133,
   "id": "d7fec376",
   "metadata": {},
   "outputs": [],
   "source": [
    "# for this dataset only one important features is there Credit_History as per decision tree \n",
    "# that one column is sufficient to predict the answer "
   ]
  },
  {
   "cell_type": "code",
   "execution_count": null,
   "id": "c8c436bb",
   "metadata": {},
   "outputs": [],
   "source": []
  },
  {
   "cell_type": "code",
   "execution_count": 134,
   "id": "2760681a",
   "metadata": {},
   "outputs": [],
   "source": [
    "# all the input variable are discrete only 2 continous variable -> but they also by applying boxcox converted to low value  \n",
    "# if we want to apply PCA try for that one also , in another jupyter notebook, pca is apply only on the input variable , n_component=0.95 is lock\n",
    "# for continous variable only by selecting the df.iloc and apply the PCA , and compare with pca & without pca which give better accuracy\n",
    "# we identify the random_state number by applying by using the for loop in the logistic regression that no. only we have to lock for entire project \n",
    "# one random_state should be locked  "
   ]
  },
  {
   "cell_type": "code",
   "execution_count": null,
   "id": "f46424a8",
   "metadata": {},
   "outputs": [],
   "source": []
  }
 ],
 "metadata": {
  "kernelspec": {
   "display_name": "Python 3 (ipykernel)",
   "language": "python",
   "name": "python3"
  },
  "language_info": {
   "codemirror_mode": {
    "name": "ipython",
    "version": 3
   },
   "file_extension": ".py",
   "mimetype": "text/x-python",
   "name": "python",
   "nbconvert_exporter": "python",
   "pygments_lexer": "ipython3",
   "version": "3.9.13"
  }
 },
 "nbformat": 4,
 "nbformat_minor": 5
}
